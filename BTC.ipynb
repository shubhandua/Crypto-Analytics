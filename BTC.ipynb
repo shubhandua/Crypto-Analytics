{
 "cells": [
  {
   "cell_type": "code",
   "execution_count": 1,
   "id": "4bcb9c1e",
   "metadata": {},
   "outputs": [
    {
     "name": "stdout",
     "output_type": "stream",
     "text": [
      "Requirement already satisfied: plotly in /Users/shubhandua/opt/anaconda3/lib/python3.9/site-packages (5.9.0)\n",
      "Requirement already satisfied: tenacity>=6.2.0 in /Users/shubhandua/opt/anaconda3/lib/python3.9/site-packages (from plotly) (8.0.1)\n",
      "Note: you may need to restart the kernel to use updated packages.\n"
     ]
    }
   ],
   "source": [
    "%pip install plotly"
   ]
  },
  {
   "cell_type": "code",
   "execution_count": 2,
   "id": "ca45c812",
   "metadata": {},
   "outputs": [],
   "source": [
    "import pandas as pd\n",
    "import plotly\n",
    "import numpy as np\n",
    "import plotly.express as px"
   ]
  },
  {
   "cell_type": "code",
   "execution_count": null,
   "id": "867c0ff3",
   "metadata": {},
   "outputs": [],
   "source": []
  },
  {
   "cell_type": "code",
   "execution_count": 3,
   "id": "1952c966",
   "metadata": {},
   "outputs": [
    {
     "data": {
      "text/html": [
       "<div>\n",
       "<style scoped>\n",
       "    .dataframe tbody tr th:only-of-type {\n",
       "        vertical-align: middle;\n",
       "    }\n",
       "\n",
       "    .dataframe tbody tr th {\n",
       "        vertical-align: top;\n",
       "    }\n",
       "\n",
       "    .dataframe thead th {\n",
       "        text-align: right;\n",
       "    }\n",
       "</style>\n",
       "<table border=\"1\" class=\"dataframe\">\n",
       "  <thead>\n",
       "    <tr style=\"text-align: right;\">\n",
       "      <th></th>\n",
       "      <th>Time\\t\"BTC / USD Denominated Closing Price\"</th>\n",
       "    </tr>\n",
       "  </thead>\n",
       "  <tbody>\n",
       "    <tr>\n",
       "      <th>0</th>\n",
       "      <td>2011-05-30\\t8.77934246464056</td>\n",
       "    </tr>\n",
       "    <tr>\n",
       "      <th>1</th>\n",
       "      <td>2011-05-31\\t8.72157642197545</td>\n",
       "    </tr>\n",
       "    <tr>\n",
       "      <th>2</th>\n",
       "      <td>2011-06-01\\t9.62377723202805</td>\n",
       "    </tr>\n",
       "    <tr>\n",
       "      <th>3</th>\n",
       "      <td>2011-06-02\\t10.7027602279369</td>\n",
       "    </tr>\n",
       "    <tr>\n",
       "      <th>4</th>\n",
       "      <td>2011-06-03\\t14.2646467738165</td>\n",
       "    </tr>\n",
       "    <tr>\n",
       "      <th>...</th>\n",
       "      <td>...</td>\n",
       "    </tr>\n",
       "    <tr>\n",
       "      <th>3969</th>\n",
       "      <td>2022-04-11\\t39544.0251835184</td>\n",
       "    </tr>\n",
       "    <tr>\n",
       "      <th>3970</th>\n",
       "      <td>2022-04-12\\t40096.3669748685</td>\n",
       "    </tr>\n",
       "    <tr>\n",
       "      <th>3971</th>\n",
       "      <td>2022-04-13\\t41152.7554517826</td>\n",
       "    </tr>\n",
       "    <tr>\n",
       "      <th>3972</th>\n",
       "      <td>2022-04-14\\t39916.4963842782</td>\n",
       "    </tr>\n",
       "    <tr>\n",
       "      <th>3973</th>\n",
       "      <td>2022-04-15\\t40527.331956750</td>\n",
       "    </tr>\n",
       "  </tbody>\n",
       "</table>\n",
       "<p>3974 rows × 1 columns</p>\n",
       "</div>"
      ],
      "text/plain": [
       "     Time\\t\"BTC / USD Denominated Closing Price\"\n",
       "0                   2011-05-30\\t8.77934246464056\n",
       "1                   2011-05-31\\t8.72157642197545\n",
       "2                   2011-06-01\\t9.62377723202805\n",
       "3                   2011-06-02\\t10.7027602279369\n",
       "4                   2011-06-03\\t14.2646467738165\n",
       "...                                          ...\n",
       "3969                2022-04-11\\t39544.0251835184\n",
       "3970                2022-04-12\\t40096.3669748685\n",
       "3971                2022-04-13\\t41152.7554517826\n",
       "3972                2022-04-14\\t39916.4963842782\n",
       "3973                 2022-04-15\\t40527.331956750\n",
       "\n",
       "[3974 rows x 1 columns]"
      ]
     },
     "execution_count": 3,
     "metadata": {},
     "output_type": "execute_result"
    }
   ],
   "source": [
    "btc_usd = pd.read_csv('/Users/shubhandua/Desktop/Pantera/PE Ratio Research/Coin_Metric_Log.csv', encoding='utf-16')\n",
    "btc_usd"
   ]
  },
  {
   "cell_type": "code",
   "execution_count": null,
   "id": "861bb118",
   "metadata": {},
   "outputs": [],
   "source": []
  },
  {
   "cell_type": "code",
   "execution_count": 4,
   "id": "ab1e03d9",
   "metadata": {},
   "outputs": [],
   "source": [
    "#with open(path, 'rb') as f:\n",
    " # contents = f.read()"
   ]
  },
  {
   "cell_type": "code",
   "execution_count": null,
   "id": "57cc9b38",
   "metadata": {},
   "outputs": [],
   "source": []
  },
  {
   "cell_type": "code",
   "execution_count": 5,
   "id": "db0dd01a",
   "metadata": {},
   "outputs": [],
   "source": [
    "#df=btc\n",
    "#fig = px.line(df, x = 'BTC / USD Denominated Closing Price', y = 'Time', title='Apple Share Prices over time (2014)')\n",
    "#fig.show()"
   ]
  },
  {
   "cell_type": "code",
   "execution_count": 6,
   "id": "eea35b89",
   "metadata": {},
   "outputs": [
    {
     "data": {
      "text/html": [
       "<div>\n",
       "<style scoped>\n",
       "    .dataframe tbody tr th:only-of-type {\n",
       "        vertical-align: middle;\n",
       "    }\n",
       "\n",
       "    .dataframe tbody tr th {\n",
       "        vertical-align: top;\n",
       "    }\n",
       "\n",
       "    .dataframe thead th {\n",
       "        text-align: right;\n",
       "    }\n",
       "</style>\n",
       "<table border=\"1\" class=\"dataframe\">\n",
       "  <thead>\n",
       "    <tr style=\"text-align: right;\">\n",
       "      <th></th>\n",
       "      <th>0</th>\n",
       "      <th>1</th>\n",
       "    </tr>\n",
       "  </thead>\n",
       "  <tbody>\n",
       "    <tr>\n",
       "      <th>0</th>\n",
       "      <td>2011-05-30</td>\n",
       "      <td>8.77934246464056</td>\n",
       "    </tr>\n",
       "    <tr>\n",
       "      <th>1</th>\n",
       "      <td>2011-05-31</td>\n",
       "      <td>8.72157642197545</td>\n",
       "    </tr>\n",
       "    <tr>\n",
       "      <th>2</th>\n",
       "      <td>2011-06-01</td>\n",
       "      <td>9.62377723202805</td>\n",
       "    </tr>\n",
       "    <tr>\n",
       "      <th>3</th>\n",
       "      <td>2011-06-02</td>\n",
       "      <td>10.7027602279369</td>\n",
       "    </tr>\n",
       "    <tr>\n",
       "      <th>4</th>\n",
       "      <td>2011-06-03</td>\n",
       "      <td>14.2646467738165</td>\n",
       "    </tr>\n",
       "    <tr>\n",
       "      <th>...</th>\n",
       "      <td>...</td>\n",
       "      <td>...</td>\n",
       "    </tr>\n",
       "    <tr>\n",
       "      <th>3969</th>\n",
       "      <td>2022-04-11</td>\n",
       "      <td>39544.0251835184</td>\n",
       "    </tr>\n",
       "    <tr>\n",
       "      <th>3970</th>\n",
       "      <td>2022-04-12</td>\n",
       "      <td>40096.3669748685</td>\n",
       "    </tr>\n",
       "    <tr>\n",
       "      <th>3971</th>\n",
       "      <td>2022-04-13</td>\n",
       "      <td>41152.7554517826</td>\n",
       "    </tr>\n",
       "    <tr>\n",
       "      <th>3972</th>\n",
       "      <td>2022-04-14</td>\n",
       "      <td>39916.4963842782</td>\n",
       "    </tr>\n",
       "    <tr>\n",
       "      <th>3973</th>\n",
       "      <td>2022-04-15</td>\n",
       "      <td>40527.331956750</td>\n",
       "    </tr>\n",
       "  </tbody>\n",
       "</table>\n",
       "<p>3974 rows × 2 columns</p>\n",
       "</div>"
      ],
      "text/plain": [
       "               0                 1\n",
       "0     2011-05-30  8.77934246464056\n",
       "1     2011-05-31  8.72157642197545\n",
       "2     2011-06-01  9.62377723202805\n",
       "3     2011-06-02  10.7027602279369\n",
       "4     2011-06-03  14.2646467738165\n",
       "...          ...               ...\n",
       "3969  2022-04-11  39544.0251835184\n",
       "3970  2022-04-12  40096.3669748685\n",
       "3971  2022-04-13  41152.7554517826\n",
       "3972  2022-04-14  39916.4963842782\n",
       "3973  2022-04-15   40527.331956750\n",
       "\n",
       "[3974 rows x 2 columns]"
      ]
     },
     "execution_count": 6,
     "metadata": {},
     "output_type": "execute_result"
    }
   ],
   "source": [
    "new = btc_usd['Time\\t\"BTC / USD Denominated Closing Price\"'].str.split(\"\\t\", n = 1, expand = True)\n",
    "new"
   ]
  },
  {
   "cell_type": "code",
   "execution_count": 7,
   "id": "513ed8e0",
   "metadata": {},
   "outputs": [
    {
     "data": {
      "text/plain": [
       "Index(['Time', 'USD/BTC Closing Price'], dtype='object')"
      ]
     },
     "execution_count": 7,
     "metadata": {},
     "output_type": "execute_result"
    }
   ],
   "source": [
    "new.columns = [\"Time\", \"USD/BTC Closing Price\"]\n",
    "new.columns"
   ]
  },
  {
   "cell_type": "code",
   "execution_count": 8,
   "id": "b5fd2770",
   "metadata": {},
   "outputs": [
    {
     "data": {
      "text/plain": [
       "Time                      object\n",
       "USD/BTC Closing Price    float64\n",
       "dtype: object"
      ]
     },
     "execution_count": 8,
     "metadata": {},
     "output_type": "execute_result"
    }
   ],
   "source": [
    "new['USD/BTC Closing Price']= new['USD/BTC Closing Price'].astype(float)\n",
    "new.dtypes"
   ]
  },
  {
   "cell_type": "code",
   "execution_count": null,
   "id": "20df5a02-e179-4cc1-8e3f-5a118e756b56",
   "metadata": {},
   "outputs": [],
   "source": []
  },
  {
   "cell_type": "code",
   "execution_count": 9,
   "id": "5314f3f5-6973-413b-a5c4-324cf355993d",
   "metadata": {},
   "outputs": [
    {
     "data": {
      "text/html": [
       "<div>\n",
       "<style scoped>\n",
       "    .dataframe tbody tr th:only-of-type {\n",
       "        vertical-align: middle;\n",
       "    }\n",
       "\n",
       "    .dataframe tbody tr th {\n",
       "        vertical-align: top;\n",
       "    }\n",
       "\n",
       "    .dataframe thead th {\n",
       "        text-align: right;\n",
       "    }\n",
       "</style>\n",
       "<table border=\"1\" class=\"dataframe\">\n",
       "  <thead>\n",
       "    <tr style=\"text-align: right;\">\n",
       "      <th></th>\n",
       "      <th>Time</th>\n",
       "      <th>USD/BTC Closing Price</th>\n",
       "    </tr>\n",
       "  </thead>\n",
       "  <tbody>\n",
       "    <tr>\n",
       "      <th>0</th>\n",
       "      <td>2011-05-30</td>\n",
       "      <td>8.779342</td>\n",
       "    </tr>\n",
       "    <tr>\n",
       "      <th>1</th>\n",
       "      <td>2011-05-31</td>\n",
       "      <td>8.721576</td>\n",
       "    </tr>\n",
       "    <tr>\n",
       "      <th>2</th>\n",
       "      <td>2011-06-01</td>\n",
       "      <td>9.623777</td>\n",
       "    </tr>\n",
       "    <tr>\n",
       "      <th>3</th>\n",
       "      <td>2011-06-02</td>\n",
       "      <td>10.702760</td>\n",
       "    </tr>\n",
       "    <tr>\n",
       "      <th>4</th>\n",
       "      <td>2011-06-03</td>\n",
       "      <td>14.264647</td>\n",
       "    </tr>\n",
       "    <tr>\n",
       "      <th>...</th>\n",
       "      <td>...</td>\n",
       "      <td>...</td>\n",
       "    </tr>\n",
       "    <tr>\n",
       "      <th>3969</th>\n",
       "      <td>2022-04-11</td>\n",
       "      <td>39544.025184</td>\n",
       "    </tr>\n",
       "    <tr>\n",
       "      <th>3970</th>\n",
       "      <td>2022-04-12</td>\n",
       "      <td>40096.366975</td>\n",
       "    </tr>\n",
       "    <tr>\n",
       "      <th>3971</th>\n",
       "      <td>2022-04-13</td>\n",
       "      <td>41152.755452</td>\n",
       "    </tr>\n",
       "    <tr>\n",
       "      <th>3972</th>\n",
       "      <td>2022-04-14</td>\n",
       "      <td>39916.496384</td>\n",
       "    </tr>\n",
       "    <tr>\n",
       "      <th>3973</th>\n",
       "      <td>2022-04-15</td>\n",
       "      <td>40527.331957</td>\n",
       "    </tr>\n",
       "  </tbody>\n",
       "</table>\n",
       "<p>3974 rows × 2 columns</p>\n",
       "</div>"
      ],
      "text/plain": [
       "            Time  USD/BTC Closing Price\n",
       "0     2011-05-30               8.779342\n",
       "1     2011-05-31               8.721576\n",
       "2     2011-06-01               9.623777\n",
       "3     2011-06-02              10.702760\n",
       "4     2011-06-03              14.264647\n",
       "...          ...                    ...\n",
       "3969  2022-04-11           39544.025184\n",
       "3970  2022-04-12           40096.366975\n",
       "3971  2022-04-13           41152.755452\n",
       "3972  2022-04-14           39916.496384\n",
       "3973  2022-04-15           40527.331957\n",
       "\n",
       "[3974 rows x 2 columns]"
      ]
     },
     "execution_count": 9,
     "metadata": {},
     "output_type": "execute_result"
    }
   ],
   "source": [
    "new"
   ]
  },
  {
   "cell_type": "code",
   "execution_count": 10,
   "id": "bee6046c-cf52-4d2f-b138-87143280b729",
   "metadata": {},
   "outputs": [
    {
     "data": {
      "text/plain": [
       "67541.7555081824"
      ]
     },
     "execution_count": 10,
     "metadata": {},
     "output_type": "execute_result"
    }
   ],
   "source": [
    "new['USD/BTC Closing Price'].max()"
   ]
  },
  {
   "cell_type": "code",
   "execution_count": 11,
   "id": "498019aa-0d81-4dfd-9dd7-523f00ab3d3b",
   "metadata": {},
   "outputs": [
    {
     "data": {
      "text/plain": [
       "<AxesSubplot:xlabel='Time'>"
      ]
     },
     "execution_count": 11,
     "metadata": {},
     "output_type": "execute_result"
    },
    {
     "data": {
      "image/png": "[encoded data removed]",
      "text/plain": [
       "<Figure size 720x720 with 1 Axes>"
      ]
     },
     "metadata": {
      "needs_background": "light"
     },
     "output_type": "display_data"
    }
   ],
   "source": [
    "new.plot(x=\"Time\", y= \"USD/BTC Closing Price\",\n",
    "        kind=\"line\", yticks= [10,100,1000,10000, 20000, 30000, 40000, 50000,60000, 70000, 80000, 90000, 100000], figsize=(10, 10))\n"
   ]
  },
  {
   "cell_type": "code",
   "execution_count": 12,
   "id": "88c89bc4-c7cd-4831-a1c3-27ad76faf055",
   "metadata": {},
   "outputs": [
    {
     "data": {
      "text/plain": [
       "11.120501285727656"
      ]
     },
     "execution_count": 12,
     "metadata": {},
     "output_type": "execute_result"
    }
   ],
   "source": [
    "new['USD/BTC Closing Price'] = np.log(new['USD/BTC Closing Price'])\n",
    "new['USD/BTC Closing Price'].max()"
   ]
  },
  {
   "cell_type": "code",
   "execution_count": 13,
   "id": "374d3a15-4763-47d1-9531-640baf4d9ebb",
   "metadata": {},
   "outputs": [
    {
     "data": {
      "text/plain": [
       "<AxesSubplot:xlabel='Time'>"
      ]
     },
     "execution_count": 13,
     "metadata": {},
     "output_type": "execute_result"
    },
    {
     "data": {
      "image/png": "[encoded data removed]",
      "text/plain": [
       "<Figure size 1080x720 with 1 Axes>"
      ]
     },
     "metadata": {
      "needs_background": "light"
     },
     "output_type": "display_data"
    }
   ],
   "source": [
    "new.plot(x=\"Time\", y= \"USD/BTC Closing Price\",\n",
    "        kind=\"line\", figsize=(15, 10))\n"
   ]
  },
  {
   "cell_type": "code",
   "execution_count": null,
   "id": "3a6f6d8a-2338-4998-8e16-ccb326d7dade",
   "metadata": {},
   "outputs": [],
   "source": []
  },
  {
   "cell_type": "code",
   "execution_count": 14,
   "id": "7d585ae6-d8ba-4d7c-82e1-5ef2aee84bf8",
   "metadata": {},
   "outputs": [],
   "source": [
    "nvt = pd.read_csv('/Users/shubhandua/Desktop/Pantera/PE Ratio Research/BTC_NVT.csv', encoding='utf-16')"
   ]
  },
  {
   "cell_type": "code",
   "execution_count": 15,
   "id": "07968f2c-cbbf-4d9a-928b-5c6694e6e909",
   "metadata": {},
   "outputs": [
    {
     "data": {
      "text/html": [
       "<div>\n",
       "<style scoped>\n",
       "    .dataframe tbody tr th:only-of-type {\n",
       "        vertical-align: middle;\n",
       "    }\n",
       "\n",
       "    .dataframe tbody tr th {\n",
       "        vertical-align: top;\n",
       "    }\n",
       "\n",
       "    .dataframe thead th {\n",
       "        text-align: right;\n",
       "    }\n",
       "</style>\n",
       "<table border=\"1\" class=\"dataframe\">\n",
       "  <thead>\n",
       "    <tr style=\"text-align: right;\">\n",
       "      <th></th>\n",
       "      <th>Time\\t\"BTC / NVT\"</th>\n",
       "    </tr>\n",
       "  </thead>\n",
       "  <tbody>\n",
       "    <tr>\n",
       "      <th>0</th>\n",
       "      <td>2011-08-15\\t70.4038207</td>\n",
       "    </tr>\n",
       "    <tr>\n",
       "      <th>1</th>\n",
       "      <td>2011-08-16\\t60.98096972</td>\n",
       "    </tr>\n",
       "    <tr>\n",
       "      <th>2</th>\n",
       "      <td>2011-08-17\\t41.69372728</td>\n",
       "    </tr>\n",
       "    <tr>\n",
       "      <th>3</th>\n",
       "      <td>2011-08-18\\t72.20724056</td>\n",
       "    </tr>\n",
       "    <tr>\n",
       "      <th>4</th>\n",
       "      <td>2011-08-19\\t49.31867934</td>\n",
       "    </tr>\n",
       "    <tr>\n",
       "      <th>5</th>\n",
       "      <td>2011-08-20\\t82.43960184</td>\n",
       "    </tr>\n",
       "    <tr>\n",
       "      <th>6</th>\n",
       "      <td>2011-08-21\\t82.2055402</td>\n",
       "    </tr>\n",
       "    <tr>\n",
       "      <th>7</th>\n",
       "      <td>2011-08-22\\t71.89049011</td>\n",
       "    </tr>\n",
       "    <tr>\n",
       "      <th>8</th>\n",
       "      <td>2011-08-23\\t72.93289984</td>\n",
       "    </tr>\n",
       "    <tr>\n",
       "      <th>9</th>\n",
       "      <td>2011-08-24\\t57.18940565</td>\n",
       "    </tr>\n",
       "  </tbody>\n",
       "</table>\n",
       "</div>"
      ],
      "text/plain": [
       "         Time\\t\"BTC / NVT\"\n",
       "0   2011-08-15\\t70.4038207\n",
       "1  2011-08-16\\t60.98096972\n",
       "2  2011-08-17\\t41.69372728\n",
       "3  2011-08-18\\t72.20724056\n",
       "4  2011-08-19\\t49.31867934\n",
       "5  2011-08-20\\t82.43960184\n",
       "6   2011-08-21\\t82.2055402\n",
       "7  2011-08-22\\t71.89049011\n",
       "8  2011-08-23\\t72.93289984\n",
       "9  2011-08-24\\t57.18940565"
      ]
     },
     "execution_count": 15,
     "metadata": {},
     "output_type": "execute_result"
    }
   ],
   "source": [
    "nvt.head(10)"
   ]
  },
  {
   "cell_type": "code",
   "execution_count": 16,
   "id": "7cc652d6-563c-4e32-a39f-d51ad0d5d3dc",
   "metadata": {},
   "outputs": [
    {
     "data": {
      "text/html": [
       "<div>\n",
       "<style scoped>\n",
       "    .dataframe tbody tr th:only-of-type {\n",
       "        vertical-align: middle;\n",
       "    }\n",
       "\n",
       "    .dataframe tbody tr th {\n",
       "        vertical-align: top;\n",
       "    }\n",
       "\n",
       "    .dataframe thead th {\n",
       "        text-align: right;\n",
       "    }\n",
       "</style>\n",
       "<table border=\"1\" class=\"dataframe\">\n",
       "  <thead>\n",
       "    <tr style=\"text-align: right;\">\n",
       "      <th></th>\n",
       "      <th>0</th>\n",
       "      <th>1</th>\n",
       "    </tr>\n",
       "  </thead>\n",
       "  <tbody>\n",
       "    <tr>\n",
       "      <th>0</th>\n",
       "      <td>2011-08-15</td>\n",
       "      <td>70.4038207</td>\n",
       "    </tr>\n",
       "    <tr>\n",
       "      <th>1</th>\n",
       "      <td>2011-08-16</td>\n",
       "      <td>60.98096972</td>\n",
       "    </tr>\n",
       "    <tr>\n",
       "      <th>2</th>\n",
       "      <td>2011-08-17</td>\n",
       "      <td>41.69372728</td>\n",
       "    </tr>\n",
       "    <tr>\n",
       "      <th>3</th>\n",
       "      <td>2011-08-18</td>\n",
       "      <td>72.20724056</td>\n",
       "    </tr>\n",
       "    <tr>\n",
       "      <th>4</th>\n",
       "      <td>2011-08-19</td>\n",
       "      <td>49.31867934</td>\n",
       "    </tr>\n",
       "    <tr>\n",
       "      <th>5</th>\n",
       "      <td>2011-08-20</td>\n",
       "      <td>82.43960184</td>\n",
       "    </tr>\n",
       "    <tr>\n",
       "      <th>6</th>\n",
       "      <td>2011-08-21</td>\n",
       "      <td>82.2055402</td>\n",
       "    </tr>\n",
       "    <tr>\n",
       "      <th>7</th>\n",
       "      <td>2011-08-22</td>\n",
       "      <td>71.89049011</td>\n",
       "    </tr>\n",
       "    <tr>\n",
       "      <th>8</th>\n",
       "      <td>2011-08-23</td>\n",
       "      <td>72.93289984</td>\n",
       "    </tr>\n",
       "    <tr>\n",
       "      <th>9</th>\n",
       "      <td>2011-08-24</td>\n",
       "      <td>57.18940565</td>\n",
       "    </tr>\n",
       "  </tbody>\n",
       "</table>\n",
       "</div>"
      ],
      "text/plain": [
       "            0            1\n",
       "0  2011-08-15   70.4038207\n",
       "1  2011-08-16  60.98096972\n",
       "2  2011-08-17  41.69372728\n",
       "3  2011-08-18  72.20724056\n",
       "4  2011-08-19  49.31867934\n",
       "5  2011-08-20  82.43960184\n",
       "6  2011-08-21   82.2055402\n",
       "7  2011-08-22  71.89049011\n",
       "8  2011-08-23  72.93289984\n",
       "9  2011-08-24  57.18940565"
      ]
     },
     "execution_count": 16,
     "metadata": {},
     "output_type": "execute_result"
    }
   ],
   "source": [
    "nvt_new = nvt['Time\\t\"BTC / NVT\"'].str.split(\"\\t\", n = 1, expand = True)\n",
    "nvt_new.head(10)"
   ]
  },
  {
   "cell_type": "code",
   "execution_count": 17,
   "id": "ca99367f-352e-46ac-bfd3-8270a88bd2af",
   "metadata": {},
   "outputs": [
    {
     "data": {
      "text/html": [
       "<div>\n",
       "<style scoped>\n",
       "    .dataframe tbody tr th:only-of-type {\n",
       "        vertical-align: middle;\n",
       "    }\n",
       "\n",
       "    .dataframe tbody tr th {\n",
       "        vertical-align: top;\n",
       "    }\n",
       "\n",
       "    .dataframe thead th {\n",
       "        text-align: right;\n",
       "    }\n",
       "</style>\n",
       "<table border=\"1\" class=\"dataframe\">\n",
       "  <thead>\n",
       "    <tr style=\"text-align: right;\">\n",
       "      <th></th>\n",
       "      <th>Time</th>\n",
       "      <th>NVT/BTC</th>\n",
       "    </tr>\n",
       "  </thead>\n",
       "  <tbody>\n",
       "    <tr>\n",
       "      <th>0</th>\n",
       "      <td>2011-08-15</td>\n",
       "      <td>70.4038207</td>\n",
       "    </tr>\n",
       "    <tr>\n",
       "      <th>1</th>\n",
       "      <td>2011-08-16</td>\n",
       "      <td>60.98096972</td>\n",
       "    </tr>\n",
       "    <tr>\n",
       "      <th>2</th>\n",
       "      <td>2011-08-17</td>\n",
       "      <td>41.69372728</td>\n",
       "    </tr>\n",
       "    <tr>\n",
       "      <th>3</th>\n",
       "      <td>2011-08-18</td>\n",
       "      <td>72.20724056</td>\n",
       "    </tr>\n",
       "    <tr>\n",
       "      <th>4</th>\n",
       "      <td>2011-08-19</td>\n",
       "      <td>49.31867934</td>\n",
       "    </tr>\n",
       "    <tr>\n",
       "      <th>...</th>\n",
       "      <td>...</td>\n",
       "      <td>...</td>\n",
       "    </tr>\n",
       "    <tr>\n",
       "      <th>3818</th>\n",
       "      <td>2022-01-27</td>\n",
       "      <td>39.199749344735</td>\n",
       "    </tr>\n",
       "    <tr>\n",
       "      <th>3819</th>\n",
       "      <td>2022-01-28</td>\n",
       "      <td>40.290030886665</td>\n",
       "    </tr>\n",
       "    <tr>\n",
       "      <th>3820</th>\n",
       "      <td>2022-01-29</td>\n",
       "      <td>56.741526207964</td>\n",
       "    </tr>\n",
       "    <tr>\n",
       "      <th>3821</th>\n",
       "      <td>2022-01-30</td>\n",
       "      <td>52.035791701856</td>\n",
       "    </tr>\n",
       "    <tr>\n",
       "      <th>3822</th>\n",
       "      <td>2022-01-31</td>\n",
       "      <td>45.10668451904</td>\n",
       "    </tr>\n",
       "  </tbody>\n",
       "</table>\n",
       "<p>3823 rows × 2 columns</p>\n",
       "</div>"
      ],
      "text/plain": [
       "            Time          NVT/BTC\n",
       "0     2011-08-15       70.4038207\n",
       "1     2011-08-16      60.98096972\n",
       "2     2011-08-17      41.69372728\n",
       "3     2011-08-18      72.20724056\n",
       "4     2011-08-19      49.31867934\n",
       "...          ...              ...\n",
       "3818  2022-01-27  39.199749344735\n",
       "3819  2022-01-28  40.290030886665\n",
       "3820  2022-01-29  56.741526207964\n",
       "3821  2022-01-30  52.035791701856\n",
       "3822  2022-01-31   45.10668451904\n",
       "\n",
       "[3823 rows x 2 columns]"
      ]
     },
     "execution_count": 17,
     "metadata": {},
     "output_type": "execute_result"
    }
   ],
   "source": [
    "nvt_new.columns = [\"Time\", \"NVT/BTC\"]\n",
    "\n",
    "nvt_new"
   ]
  },
  {
   "cell_type": "code",
   "execution_count": 18,
   "id": "2aca41e7-e199-4c12-b1d8-63a52fd64fef",
   "metadata": {},
   "outputs": [],
   "source": [
    "nvt_new['NVT/BTC']= nvt_new['NVT/BTC'].astype(float)"
   ]
  },
  {
   "cell_type": "code",
   "execution_count": null,
   "id": "0b19ea02-a8ed-4f44-a8cf-5651e24d77cc",
   "metadata": {},
   "outputs": [],
   "source": []
  },
  {
   "cell_type": "code",
   "execution_count": 19,
   "id": "5f9e1018-7ee5-4c24-a424-c41a2d58657e",
   "metadata": {},
   "outputs": [
    {
     "data": {
      "text/plain": [
       "<AxesSubplot:xlabel='Time'>"
      ]
     },
     "execution_count": 19,
     "metadata": {},
     "output_type": "execute_result"
    },
    {
     "data": {
      "image/png": "[encoded data removed]",
      "text/plain": [
       "<Figure size 720x720 with 1 Axes>"
      ]
     },
     "metadata": {
      "needs_background": "light"
     },
     "output_type": "display_data"
    }
   ],
   "source": [
    "nvt_new.plot(x=\"Time\", y= \"NVT/BTC\",\n",
    "        kind=\"line\", figsize=(10, 10))\n"
   ]
  },
  {
   "cell_type": "markdown",
   "id": "7fecf6a9-96f2-471d-8c64-f5fbdd44cbda",
   "metadata": {},
   "source": [
    "## TAAR "
   ]
  },
  {
   "cell_type": "code",
   "execution_count": 137,
   "id": "221539a0-d197-4884-a962-4054c7d93c36",
   "metadata": {},
   "outputs": [
    {
     "data": {
      "text/html": [
       "<div>\n",
       "<style scoped>\n",
       "    .dataframe tbody tr th:only-of-type {\n",
       "        vertical-align: middle;\n",
       "    }\n",
       "\n",
       "    .dataframe tbody tr th {\n",
       "        vertical-align: top;\n",
       "    }\n",
       "\n",
       "    .dataframe thead th {\n",
       "        text-align: right;\n",
       "    }\n",
       "</style>\n",
       "<table border=\"1\" class=\"dataframe\">\n",
       "  <thead>\n",
       "    <tr style=\"text-align: right;\">\n",
       "      <th></th>\n",
       "      <th>Time\\t\"BTC / USD Denominated Closing Price\"\\t\"BTC / Active Addr Cnt\"</th>\n",
       "    </tr>\n",
       "  </thead>\n",
       "  <tbody>\n",
       "    <tr>\n",
       "      <th>877</th>\n",
       "      <td>2011-05-30\\t8.77934246464056\\t12585</td>\n",
       "    </tr>\n",
       "    <tr>\n",
       "      <th>878</th>\n",
       "      <td>2011-05-31\\t8.72157642197545\\t13982</td>\n",
       "    </tr>\n",
       "    <tr>\n",
       "      <th>879</th>\n",
       "      <td>2011-06-01\\t9.62377723202805\\t14043</td>\n",
       "    </tr>\n",
       "    <tr>\n",
       "      <th>880</th>\n",
       "      <td>2011-06-02\\t10.7027602279369\\t15459</td>\n",
       "    </tr>\n",
       "    <tr>\n",
       "      <th>881</th>\n",
       "      <td>2011-06-03\\t14.2646467738165\\t17741</td>\n",
       "    </tr>\n",
       "    <tr>\n",
       "      <th>882</th>\n",
       "      <td>2011-06-04\\t18.3127387258913\\t19728</td>\n",
       "    </tr>\n",
       "    <tr>\n",
       "      <th>883</th>\n",
       "      <td>2011-06-05\\t16.5433423962595\\t17662</td>\n",
       "    </tr>\n",
       "    <tr>\n",
       "      <th>884</th>\n",
       "      <td>2011-06-06\\t18.4020986440678\\t21083</td>\n",
       "    </tr>\n",
       "    <tr>\n",
       "      <th>885</th>\n",
       "      <td>2011-06-07\\t23.2378784628872\\t19206</td>\n",
       "    </tr>\n",
       "    <tr>\n",
       "      <th>886</th>\n",
       "      <td>2011-06-08\\t29.0299213267095\\t27266</td>\n",
       "    </tr>\n",
       "  </tbody>\n",
       "</table>\n",
       "</div>"
      ],
      "text/plain": [
       "    Time\\t\"BTC / USD Denominated Closing Price\"\\t\"BTC / Active Addr Cnt\"\n",
       "877                2011-05-30\\t8.77934246464056\\t12585                  \n",
       "878                2011-05-31\\t8.72157642197545\\t13982                  \n",
       "879                2011-06-01\\t9.62377723202805\\t14043                  \n",
       "880                2011-06-02\\t10.7027602279369\\t15459                  \n",
       "881                2011-06-03\\t14.2646467738165\\t17741                  \n",
       "882                2011-06-04\\t18.3127387258913\\t19728                  \n",
       "883                2011-06-05\\t16.5433423962595\\t17662                  \n",
       "884                2011-06-06\\t18.4020986440678\\t21083                  \n",
       "885                2011-06-07\\t23.2378784628872\\t19206                  \n",
       "886                2011-06-08\\t29.0299213267095\\t27266                  "
      ]
     },
     "execution_count": 137,
     "metadata": {},
     "output_type": "execute_result"
    }
   ],
   "source": [
    "btc_taar = pd.read_csv(\"/Users/shubhandua/Desktop/Pantera/PE Ratio Research/BTC_TAAR.csv\", encoding = 'UTF-16')\n",
    "btc_taar = btc_taar.iloc[877:, :]\n",
    "btc_taar.head(10)"
   ]
  },
  {
   "cell_type": "code",
   "execution_count": 138,
   "id": "f9367bec-6749-49fa-a649-b04202c95699",
   "metadata": {},
   "outputs": [
    {
     "data": {
      "text/html": [
       "<div>\n",
       "<style scoped>\n",
       "    .dataframe tbody tr th:only-of-type {\n",
       "        vertical-align: middle;\n",
       "    }\n",
       "\n",
       "    .dataframe tbody tr th {\n",
       "        vertical-align: top;\n",
       "    }\n",
       "\n",
       "    .dataframe thead th {\n",
       "        text-align: right;\n",
       "    }\n",
       "</style>\n",
       "<table border=\"1\" class=\"dataframe\">\n",
       "  <thead>\n",
       "    <tr style=\"text-align: right;\">\n",
       "      <th></th>\n",
       "      <th>0</th>\n",
       "      <th>1</th>\n",
       "      <th>2</th>\n",
       "    </tr>\n",
       "  </thead>\n",
       "  <tbody>\n",
       "    <tr>\n",
       "      <th>0</th>\n",
       "      <td>2011-05-30</td>\n",
       "      <td>8.77934246464056</td>\n",
       "      <td>12585</td>\n",
       "    </tr>\n",
       "    <tr>\n",
       "      <th>1</th>\n",
       "      <td>2011-05-31</td>\n",
       "      <td>8.72157642197545</td>\n",
       "      <td>13982</td>\n",
       "    </tr>\n",
       "    <tr>\n",
       "      <th>2</th>\n",
       "      <td>2011-06-01</td>\n",
       "      <td>9.62377723202805</td>\n",
       "      <td>14043</td>\n",
       "    </tr>\n",
       "    <tr>\n",
       "      <th>3</th>\n",
       "      <td>2011-06-02</td>\n",
       "      <td>10.7027602279369</td>\n",
       "      <td>15459</td>\n",
       "    </tr>\n",
       "    <tr>\n",
       "      <th>4</th>\n",
       "      <td>2011-06-03</td>\n",
       "      <td>14.2646467738165</td>\n",
       "      <td>17741</td>\n",
       "    </tr>\n",
       "    <tr>\n",
       "      <th>...</th>\n",
       "      <td>...</td>\n",
       "      <td>...</td>\n",
       "      <td>...</td>\n",
       "    </tr>\n",
       "    <tr>\n",
       "      <th>4084</th>\n",
       "      <td>2022-08-04</td>\n",
       "      <td>22628.3320821157</td>\n",
       "      <td>948545</td>\n",
       "    </tr>\n",
       "    <tr>\n",
       "      <th>4085</th>\n",
       "      <td>2022-08-05</td>\n",
       "      <td>23248.9715023378</td>\n",
       "      <td>944004</td>\n",
       "    </tr>\n",
       "    <tr>\n",
       "      <th>4086</th>\n",
       "      <td>2022-08-06</td>\n",
       "      <td>22996.2750452952</td>\n",
       "      <td>856759</td>\n",
       "    </tr>\n",
       "    <tr>\n",
       "      <th>4087</th>\n",
       "      <td>2022-08-07</td>\n",
       "      <td>23153.6584713618</td>\n",
       "      <td>716918</td>\n",
       "    </tr>\n",
       "    <tr>\n",
       "      <th>4088</th>\n",
       "      <td>2022-08-08</td>\n",
       "      <td>23803.650515429</td>\n",
       "      <td>None</td>\n",
       "    </tr>\n",
       "  </tbody>\n",
       "</table>\n",
       "<p>4089 rows × 3 columns</p>\n",
       "</div>"
      ],
      "text/plain": [
       "               0                 1       2\n",
       "0     2011-05-30  8.77934246464056   12585\n",
       "1     2011-05-31  8.72157642197545   13982\n",
       "2     2011-06-01  9.62377723202805   14043\n",
       "3     2011-06-02  10.7027602279369   15459\n",
       "4     2011-06-03  14.2646467738165   17741\n",
       "...          ...               ...     ...\n",
       "4084  2022-08-04  22628.3320821157  948545\n",
       "4085  2022-08-05  23248.9715023378  944004\n",
       "4086  2022-08-06  22996.2750452952  856759\n",
       "4087  2022-08-07  23153.6584713618  716918\n",
       "4088  2022-08-08   23803.650515429    None\n",
       "\n",
       "[4089 rows x 3 columns]"
      ]
     },
     "execution_count": 138,
     "metadata": {},
     "output_type": "execute_result"
    }
   ],
   "source": [
    "btc_taar_new = btc_taar['Time\\t\"BTC / USD Denominated Closing Price\"\\t\"BTC / Active Addr Cnt\"'].str.split(\"\\t\", n = 3, expand = True)\n",
    "btc_taar_new = btc_taar_new.reset_index()\n",
    "btc_taar_new.drop(columns = ['index'])\n",
    "btc_taar_new = btc_taar_new.drop(columns = ['index'])\n",
    "btc_taar_new"
   ]
  },
  {
   "cell_type": "code",
   "execution_count": 139,
   "id": "3be23ecd-8d45-445a-83d7-f5427f23460f",
   "metadata": {},
   "outputs": [],
   "source": [
    "btc_taar_new.columns = [\"Time\", \"Closing Price\", \"Active Addr Cnt\"]\n"
   ]
  },
  {
   "cell_type": "code",
   "execution_count": 140,
   "id": "d36ed0f8-9343-41cd-929f-0452c95cb21c",
   "metadata": {},
   "outputs": [],
   "source": [
    "btc_vol = pd.read_csv(\"/Users/shubhandua/Desktop/Pantera/PE Ratio Research/BTC_Volume.csv\")\n",
    "btc_vol = btc_vol.iloc[::-1]\n"
   ]
  },
  {
   "cell_type": "code",
   "execution_count": 141,
   "id": "f7f1f23c-ed1d-4709-b31f-f9bb5a38ded4",
   "metadata": {},
   "outputs": [
    {
     "data": {
      "text/html": [
       "<div>\n",
       "<style scoped>\n",
       "    .dataframe tbody tr th:only-of-type {\n",
       "        vertical-align: middle;\n",
       "    }\n",
       "\n",
       "    .dataframe tbody tr th {\n",
       "        vertical-align: top;\n",
       "    }\n",
       "\n",
       "    .dataframe thead th {\n",
       "        text-align: right;\n",
       "    }\n",
       "</style>\n",
       "<table border=\"1\" class=\"dataframe\">\n",
       "  <thead>\n",
       "    <tr style=\"text-align: right;\">\n",
       "      <th></th>\n",
       "      <th>Time</th>\n",
       "      <th>Closing Price</th>\n",
       "      <th>Active Addr Cnt</th>\n",
       "      <th>vol</th>\n",
       "    </tr>\n",
       "  </thead>\n",
       "  <tbody>\n",
       "    <tr>\n",
       "      <th>0</th>\n",
       "      <td>2011-05-30</td>\n",
       "      <td>8.77934246464056</td>\n",
       "      <td>12585</td>\n",
       "      <td>195.67K</td>\n",
       "    </tr>\n",
       "    <tr>\n",
       "      <th>1</th>\n",
       "      <td>2011-05-31</td>\n",
       "      <td>8.72157642197545</td>\n",
       "      <td>13982</td>\n",
       "      <td>197.94K</td>\n",
       "    </tr>\n",
       "    <tr>\n",
       "      <th>2</th>\n",
       "      <td>2011-06-01</td>\n",
       "      <td>9.62377723202805</td>\n",
       "      <td>14043</td>\n",
       "      <td>99.36K</td>\n",
       "    </tr>\n",
       "    <tr>\n",
       "      <th>3</th>\n",
       "      <td>2011-06-02</td>\n",
       "      <td>10.7027602279369</td>\n",
       "      <td>15459</td>\n",
       "      <td>94.44K</td>\n",
       "    </tr>\n",
       "    <tr>\n",
       "      <th>4</th>\n",
       "      <td>2011-06-03</td>\n",
       "      <td>14.2646467738165</td>\n",
       "      <td>17741</td>\n",
       "      <td>208.90K</td>\n",
       "    </tr>\n",
       "    <tr>\n",
       "      <th>...</th>\n",
       "      <td>...</td>\n",
       "      <td>...</td>\n",
       "      <td>...</td>\n",
       "      <td>...</td>\n",
       "    </tr>\n",
       "    <tr>\n",
       "      <th>4083</th>\n",
       "      <td>2022-08-03</td>\n",
       "      <td>22809.7474418469</td>\n",
       "      <td>977386</td>\n",
       "      <td>24.28K</td>\n",
       "    </tr>\n",
       "    <tr>\n",
       "      <th>4084</th>\n",
       "      <td>2022-08-04</td>\n",
       "      <td>22628.3320821157</td>\n",
       "      <td>948545</td>\n",
       "      <td>44.48K</td>\n",
       "    </tr>\n",
       "    <tr>\n",
       "      <th>4085</th>\n",
       "      <td>2022-08-05</td>\n",
       "      <td>23248.9715023378</td>\n",
       "      <td>944004</td>\n",
       "      <td>72.98K</td>\n",
       "    </tr>\n",
       "    <tr>\n",
       "      <th>4086</th>\n",
       "      <td>2022-08-06</td>\n",
       "      <td>22996.2750452952</td>\n",
       "      <td>856759</td>\n",
       "      <td>41.05K</td>\n",
       "    </tr>\n",
       "    <tr>\n",
       "      <th>4087</th>\n",
       "      <td>2022-08-07</td>\n",
       "      <td>23153.6584713618</td>\n",
       "      <td>716918</td>\n",
       "      <td>43.48K</td>\n",
       "    </tr>\n",
       "  </tbody>\n",
       "</table>\n",
       "<p>4088 rows × 4 columns</p>\n",
       "</div>"
      ],
      "text/plain": [
       "            Time     Closing Price Active Addr Cnt      vol\n",
       "0     2011-05-30  8.77934246464056           12585  195.67K\n",
       "1     2011-05-31  8.72157642197545           13982  197.94K\n",
       "2     2011-06-01  9.62377723202805           14043   99.36K\n",
       "3     2011-06-02  10.7027602279369           15459   94.44K\n",
       "4     2011-06-03  14.2646467738165           17741  208.90K\n",
       "...          ...               ...             ...      ...\n",
       "4083  2022-08-03  22809.7474418469          977386   24.28K\n",
       "4084  2022-08-04  22628.3320821157          948545   44.48K\n",
       "4085  2022-08-05  23248.9715023378          944004   72.98K\n",
       "4086  2022-08-06  22996.2750452952          856759   41.05K\n",
       "4087  2022-08-07  23153.6584713618          716918   43.48K\n",
       "\n",
       "[4088 rows x 4 columns]"
      ]
     },
     "execution_count": 141,
     "metadata": {},
     "output_type": "execute_result"
    }
   ],
   "source": [
    "btc_taar_new[\"vol\"] = btc_vol[\"Vol.\"]\n",
    "btc_taar_new = btc_taar_new.iloc[:-1 , :]\n",
    "btc_taar_new"
   ]
  },
  {
   "cell_type": "code",
   "execution_count": 142,
   "id": "3fc21ac5-c566-4e9d-afd1-dfaa28c9f885",
   "metadata": {},
   "outputs": [
    {
     "name": "stderr",
     "output_type": "stream",
     "text": [
      "/var/folders/n7/1vb6s7295bs1r5nxwjf664xc0000gn/T/ipykernel_94490/1211699139.py:1: SettingWithCopyWarning: \n",
      "A value is trying to be set on a copy of a slice from a DataFrame.\n",
      "Try using .loc[row_indexer,col_indexer] = value instead\n",
      "\n",
      "See the caveats in the documentation: https://pandas.pydata.org/pandas-docs/stable/user_guide/indexing.html#returning-a-view-versus-a-copy\n",
      "  btc_taar_new[\"Active Addr Cnt\"] = btc_taar_new[\"Active Addr Cnt\"].astype(int)\n"
     ]
    },
    {
     "data": {
      "text/plain": [
       "Time               object\n",
       "Closing Price      object\n",
       "Active Addr Cnt     int64\n",
       "vol                object\n",
       "dtype: object"
      ]
     },
     "execution_count": 142,
     "metadata": {},
     "output_type": "execute_result"
    }
   ],
   "source": [
    "btc_taar_new[\"Active Addr Cnt\"] = btc_taar_new[\"Active Addr Cnt\"].astype(int)\n",
    "btc_taar_new.dtypes"
   ]
  },
  {
   "cell_type": "code",
   "execution_count": 143,
   "id": "331389e8-09f3-40f3-8126-02f14af67546",
   "metadata": {},
   "outputs": [
    {
     "name": "stderr",
     "output_type": "stream",
     "text": [
      "/var/folders/n7/1vb6s7295bs1r5nxwjf664xc0000gn/T/ipykernel_94490/1378631020.py:2: SettingWithCopyWarning: \n",
      "A value is trying to be set on a copy of a slice from a DataFrame.\n",
      "Try using .loc[row_indexer,col_indexer] = value instead\n",
      "\n",
      "See the caveats in the documentation: https://pandas.pydata.org/pandas-docs/stable/user_guide/indexing.html#returning-a-view-versus-a-copy\n",
      "  btc_taar_new[\"vol\"] = btc_taar_new[\"vol\"].replace(mp.keys(), mp.values(), regex = True)\n",
      "/var/folders/n7/1vb6s7295bs1r5nxwjf664xc0000gn/T/ipykernel_94490/1378631020.py:3: SettingWithCopyWarning: \n",
      "A value is trying to be set on a copy of a slice from a DataFrame.\n",
      "Try using .loc[row_indexer,col_indexer] = value instead\n",
      "\n",
      "See the caveats in the documentation: https://pandas.pydata.org/pandas-docs/stable/user_guide/indexing.html#returning-a-view-versus-a-copy\n",
      "  btc_taar_new[\"vol\"] = btc_taar_new[\"vol\"].astype(int)\n"
     ]
    }
   ],
   "source": [
    "mp = {'K':'000', '\\.' : \"\", 'M':'000000', 'B' : '00000000', '-' : '15500' }\n",
    "btc_taar_new[\"vol\"] = btc_taar_new[\"vol\"].replace(mp.keys(), mp.values(), regex = True)\n",
    "btc_taar_new[\"vol\"] = btc_taar_new[\"vol\"].astype(int)"
   ]
  },
  {
   "cell_type": "code",
   "execution_count": 144,
   "id": "a41c6ebe-afd1-490e-8899-966c8fc5e61a",
   "metadata": {},
   "outputs": [
    {
     "data": {
      "text/plain": [
       "Time               object\n",
       "Closing Price      object\n",
       "Active Addr Cnt     int64\n",
       "vol                 int64\n",
       "dtype: object"
      ]
     },
     "execution_count": 144,
     "metadata": {},
     "output_type": "execute_result"
    }
   ],
   "source": [
    "btc_taar_new.dtypes"
   ]
  },
  {
   "cell_type": "code",
   "execution_count": 145,
   "id": "d9e283cd-6859-4b7c-a483-9654b6a3171d",
   "metadata": {},
   "outputs": [
    {
     "name": "stderr",
     "output_type": "stream",
     "text": [
      "/var/folders/n7/1vb6s7295bs1r5nxwjf664xc0000gn/T/ipykernel_94490/3841795162.py:1: SettingWithCopyWarning: \n",
      "A value is trying to be set on a copy of a slice from a DataFrame.\n",
      "Try using .loc[row_indexer,col_indexer] = value instead\n",
      "\n",
      "See the caveats in the documentation: https://pandas.pydata.org/pandas-docs/stable/user_guide/indexing.html#returning-a-view-versus-a-copy\n",
      "  btc_taar_new[\"TAAR\"] = btc_taar_new[\"vol\"] / btc_taar_new[\"Active Addr Cnt\"]\n"
     ]
    },
    {
     "data": {
      "text/html": [
       "<div>\n",
       "<style scoped>\n",
       "    .dataframe tbody tr th:only-of-type {\n",
       "        vertical-align: middle;\n",
       "    }\n",
       "\n",
       "    .dataframe tbody tr th {\n",
       "        vertical-align: top;\n",
       "    }\n",
       "\n",
       "    .dataframe thead th {\n",
       "        text-align: right;\n",
       "    }\n",
       "</style>\n",
       "<table border=\"1\" class=\"dataframe\">\n",
       "  <thead>\n",
       "    <tr style=\"text-align: right;\">\n",
       "      <th></th>\n",
       "      <th>Time</th>\n",
       "      <th>Closing Price</th>\n",
       "      <th>Active Addr Cnt</th>\n",
       "      <th>vol</th>\n",
       "      <th>TAAR</th>\n",
       "    </tr>\n",
       "  </thead>\n",
       "  <tbody>\n",
       "    <tr>\n",
       "      <th>0</th>\n",
       "      <td>2011-05-30</td>\n",
       "      <td>8.77934246464056</td>\n",
       "      <td>12585</td>\n",
       "      <td>19567000</td>\n",
       "      <td>1554.787445</td>\n",
       "    </tr>\n",
       "    <tr>\n",
       "      <th>1</th>\n",
       "      <td>2011-05-31</td>\n",
       "      <td>8.72157642197545</td>\n",
       "      <td>13982</td>\n",
       "      <td>19794000</td>\n",
       "      <td>1415.677299</td>\n",
       "    </tr>\n",
       "    <tr>\n",
       "      <th>2</th>\n",
       "      <td>2011-06-01</td>\n",
       "      <td>9.62377723202805</td>\n",
       "      <td>14043</td>\n",
       "      <td>9936000</td>\n",
       "      <td>707.541124</td>\n",
       "    </tr>\n",
       "    <tr>\n",
       "      <th>3</th>\n",
       "      <td>2011-06-02</td>\n",
       "      <td>10.7027602279369</td>\n",
       "      <td>15459</td>\n",
       "      <td>9444000</td>\n",
       "      <td>610.906268</td>\n",
       "    </tr>\n",
       "    <tr>\n",
       "      <th>4</th>\n",
       "      <td>2011-06-03</td>\n",
       "      <td>14.2646467738165</td>\n",
       "      <td>17741</td>\n",
       "      <td>20890000</td>\n",
       "      <td>1177.498450</td>\n",
       "    </tr>\n",
       "    <tr>\n",
       "      <th>...</th>\n",
       "      <td>...</td>\n",
       "      <td>...</td>\n",
       "      <td>...</td>\n",
       "      <td>...</td>\n",
       "      <td>...</td>\n",
       "    </tr>\n",
       "    <tr>\n",
       "      <th>4083</th>\n",
       "      <td>2022-08-03</td>\n",
       "      <td>22809.7474418469</td>\n",
       "      <td>977386</td>\n",
       "      <td>2428000</td>\n",
       "      <td>2.484177</td>\n",
       "    </tr>\n",
       "    <tr>\n",
       "      <th>4084</th>\n",
       "      <td>2022-08-04</td>\n",
       "      <td>22628.3320821157</td>\n",
       "      <td>948545</td>\n",
       "      <td>4448000</td>\n",
       "      <td>4.689287</td>\n",
       "    </tr>\n",
       "    <tr>\n",
       "      <th>4085</th>\n",
       "      <td>2022-08-05</td>\n",
       "      <td>23248.9715023378</td>\n",
       "      <td>944004</td>\n",
       "      <td>7298000</td>\n",
       "      <td>7.730899</td>\n",
       "    </tr>\n",
       "    <tr>\n",
       "      <th>4086</th>\n",
       "      <td>2022-08-06</td>\n",
       "      <td>22996.2750452952</td>\n",
       "      <td>856759</td>\n",
       "      <td>4105000</td>\n",
       "      <td>4.791312</td>\n",
       "    </tr>\n",
       "    <tr>\n",
       "      <th>4087</th>\n",
       "      <td>2022-08-07</td>\n",
       "      <td>23153.6584713618</td>\n",
       "      <td>716918</td>\n",
       "      <td>4348000</td>\n",
       "      <td>6.064850</td>\n",
       "    </tr>\n",
       "  </tbody>\n",
       "</table>\n",
       "<p>4088 rows × 5 columns</p>\n",
       "</div>"
      ],
      "text/plain": [
       "            Time     Closing Price  Active Addr Cnt       vol         TAAR\n",
       "0     2011-05-30  8.77934246464056            12585  19567000  1554.787445\n",
       "1     2011-05-31  8.72157642197545            13982  19794000  1415.677299\n",
       "2     2011-06-01  9.62377723202805            14043   9936000   707.541124\n",
       "3     2011-06-02  10.7027602279369            15459   9444000   610.906268\n",
       "4     2011-06-03  14.2646467738165            17741  20890000  1177.498450\n",
       "...          ...               ...              ...       ...          ...\n",
       "4083  2022-08-03  22809.7474418469           977386   2428000     2.484177\n",
       "4084  2022-08-04  22628.3320821157           948545   4448000     4.689287\n",
       "4085  2022-08-05  23248.9715023378           944004   7298000     7.730899\n",
       "4086  2022-08-06  22996.2750452952           856759   4105000     4.791312\n",
       "4087  2022-08-07  23153.6584713618           716918   4348000     6.064850\n",
       "\n",
       "[4088 rows x 5 columns]"
      ]
     },
     "execution_count": 145,
     "metadata": {},
     "output_type": "execute_result"
    }
   ],
   "source": [
    "btc_taar_new[\"TAAR\"] = btc_taar_new[\"vol\"] / btc_taar_new[\"Active Addr Cnt\"]\n",
    "btc_taar_new"
   ]
  },
  {
   "cell_type": "code",
   "execution_count": 146,
   "id": "5274d6b4-350d-4c64-af7e-9ac627930180",
   "metadata": {},
   "outputs": [
    {
     "data": {
      "text/plain": [
       "<AxesSubplot:xlabel='Time'>"
      ]
     },
     "execution_count": 146,
     "metadata": {},
     "output_type": "execute_result"
    },
    {
     "data": {
      "image/png": "[encoded data removed]",
      "text/plain": [
       "<Figure size 1440x720 with 1 Axes>"
      ]
     },
     "metadata": {
      "needs_background": "light"
     },
     "output_type": "display_data"
    }
   ],
   "source": [
    "btc_taar_new.plot(x=\"Time\", y= \"TAAR\",\n",
    "        kind=\"line\", figsize=(20, 10))"
   ]
  },
  {
   "cell_type": "code",
   "execution_count": null,
   "id": "3c999665-dd06-4c5d-a0ae-f7d7deb7784d",
   "metadata": {},
   "outputs": [],
   "source": []
  },
  {
   "cell_type": "code",
   "execution_count": 147,
   "id": "7601da7e-2787-4aea-a12c-d700703fb786",
   "metadata": {},
   "outputs": [
    {
     "data": {
      "text/plain": [
       "Time                     2022-08-07\n",
       "Closing Price      9996.71497194623\n",
       "Active Addr Cnt             1366494\n",
       "vol                     75284000000\n",
       "TAAR                 5478407.557355\n",
       "dtype: object"
      ]
     },
     "execution_count": 147,
     "metadata": {},
     "output_type": "execute_result"
    }
   ],
   "source": [
    "btc_taar_new.max()"
   ]
  },
  {
   "cell_type": "code",
   "execution_count": 148,
   "id": "49c1fa85-5cb3-4b05-b223-b24c80f5835f",
   "metadata": {},
   "outputs": [
    {
     "name": "stderr",
     "output_type": "stream",
     "text": [
      "/var/folders/n7/1vb6s7295bs1r5nxwjf664xc0000gn/T/ipykernel_94490/2638318027.py:1: SettingWithCopyWarning: \n",
      "A value is trying to be set on a copy of a slice from a DataFrame.\n",
      "Try using .loc[row_indexer,col_indexer] = value instead\n",
      "\n",
      "See the caveats in the documentation: https://pandas.pydata.org/pandas-docs/stable/user_guide/indexing.html#returning-a-view-versus-a-copy\n",
      "  btc_taar_new[\"TAAR\"] = np.log(btc_taar_new[\"TAAR\"])\n"
     ]
    }
   ],
   "source": [
    "btc_taar_new[\"TAAR\"] = np.log(btc_taar_new[\"TAAR\"])"
   ]
  },
  {
   "cell_type": "code",
   "execution_count": 149,
   "id": "be674274-4fec-4e3f-a928-fdd442521b6e",
   "metadata": {},
   "outputs": [
    {
     "data": {
      "text/plain": [
       "<AxesSubplot:xlabel='Time'>"
      ]
     },
     "execution_count": 149,
     "metadata": {},
     "output_type": "execute_result"
    },
    {
     "data": {
      "image/png": "[encoded data removed]",
      "text/plain": [
       "<Figure size 1440x720 with 1 Axes>"
      ]
     },
     "metadata": {
      "needs_background": "light"
     },
     "output_type": "display_data"
    }
   ],
   "source": [
    "btc_taar_new.plot(x=\"Time\", y= \"TAAR\",\n",
    "        kind=\"line\", figsize=(20, 10))\n"
   ]
  },
  {
   "cell_type": "code",
   "execution_count": null,
   "id": "90e75cba-1476-4bf3-ad16-59b5f76ec8e3",
   "metadata": {},
   "outputs": [],
   "source": []
  },
  {
   "cell_type": "code",
   "execution_count": null,
   "id": "b0f681ef-9c99-4f36-8b48-faf902891c51",
   "metadata": {},
   "outputs": [],
   "source": []
  },
  {
   "cell_type": "code",
   "execution_count": null,
   "id": "816feafe-fac7-4d39-ab0a-ff2d16a2b37d",
   "metadata": {},
   "outputs": [],
   "source": []
  }
 ],
 "metadata": {
  "kernelspec": {
   "display_name": "Python 3 (ipykernel)",
   "language": "python",
   "name": "python3"
  },
  "language_info": {
   "codemirror_mode": {
    "name": "ipython",
    "version": 3
   },
   "file_extension": ".py",
   "mimetype": "text/x-python",
   "name": "python",
   "nbconvert_exporter": "python",
   "pygments_lexer": "ipython3",
   "version": "3.9.7"
  }
 },
 "nbformat": 4,
 "nbformat_minor": 5
}
