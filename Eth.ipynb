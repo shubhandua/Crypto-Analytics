{
 "cells": [
  {
   "cell_type": "code",
   "execution_count": 2,
   "id": "4bcb9c1e",
   "metadata": {},
   "outputs": [
    {
     "name": "stdout",
     "output_type": "stream",
     "text": [
      "Requirement already satisfied: plotly in /Users/shubhandua/opt/anaconda3/lib/python3.9/site-packages (5.9.0)\n",
      "Requirement already satisfied: tenacity>=6.2.0 in /Users/shubhandua/opt/anaconda3/lib/python3.9/site-packages (from plotly) (8.0.1)\n",
      "Note: you may need to restart the kernel to use updated packages.\n"
     ]
    }
   ],
   "source": [
    "%pip install plotly"
   ]
  },
  {
   "cell_type": "code",
   "execution_count": 3,
   "id": "ca45c812",
   "metadata": {},
   "outputs": [],
   "source": [
    "import pandas as pd\n",
    "import plotly\n",
    "import numpy as np\n",
    "import plotly.express as px"
   ]
  },
  {
   "cell_type": "code",
   "execution_count": null,
   "id": "867c0ff3",
   "metadata": {},
   "outputs": [],
   "source": []
  },
  {
   "cell_type": "code",
   "execution_count": 4,
   "id": "1952c966",
   "metadata": {},
   "outputs": [
    {
     "data": {
      "text/html": [
       "<div>\n",
       "<style scoped>\n",
       "    .dataframe tbody tr th:only-of-type {\n",
       "        vertical-align: middle;\n",
       "    }\n",
       "\n",
       "    .dataframe tbody tr th {\n",
       "        vertical-align: top;\n",
       "    }\n",
       "\n",
       "    .dataframe thead th {\n",
       "        text-align: right;\n",
       "    }\n",
       "</style>\n",
       "<table border=\"1\" class=\"dataframe\">\n",
       "  <thead>\n",
       "    <tr style=\"text-align: right;\">\n",
       "      <th></th>\n",
       "      <th>Time\\t\"ETH / USD Denominated Closing Price\"</th>\n",
       "    </tr>\n",
       "  </thead>\n",
       "  <tbody>\n",
       "    <tr>\n",
       "      <th>0</th>\n",
       "      <td>2015-08-08\\t1.19999</td>\n",
       "    </tr>\n",
       "    <tr>\n",
       "      <th>1</th>\n",
       "      <td>2015-08-09\\t1.19999</td>\n",
       "    </tr>\n",
       "    <tr>\n",
       "      <th>2</th>\n",
       "      <td>2015-08-10\\t1.19999</td>\n",
       "    </tr>\n",
       "    <tr>\n",
       "      <th>3</th>\n",
       "      <td>2015-08-11\\t0.99</td>\n",
       "    </tr>\n",
       "    <tr>\n",
       "      <th>4</th>\n",
       "      <td>2015-08-12\\t1.288</td>\n",
       "    </tr>\n",
       "    <tr>\n",
       "      <th>5</th>\n",
       "      <td>2015-08-13\\t1.8848</td>\n",
       "    </tr>\n",
       "    <tr>\n",
       "      <th>6</th>\n",
       "      <td>2015-08-14\\t1.79504416247808</td>\n",
       "    </tr>\n",
       "    <tr>\n",
       "      <th>7</th>\n",
       "      <td>2015-08-15\\t1.78222244301578</td>\n",
       "    </tr>\n",
       "    <tr>\n",
       "      <th>8</th>\n",
       "      <td>2015-08-16\\t1.53307377556984</td>\n",
       "    </tr>\n",
       "    <tr>\n",
       "      <th>9</th>\n",
       "      <td>2015-08-17\\t1.29638</td>\n",
       "    </tr>\n",
       "  </tbody>\n",
       "</table>\n",
       "</div>"
      ],
      "text/plain": [
       "  Time\\t\"ETH / USD Denominated Closing Price\"\n",
       "0                         2015-08-08\\t1.19999\n",
       "1                         2015-08-09\\t1.19999\n",
       "2                         2015-08-10\\t1.19999\n",
       "3                            2015-08-11\\t0.99\n",
       "4                           2015-08-12\\t1.288\n",
       "5                          2015-08-13\\t1.8848\n",
       "6                2015-08-14\\t1.79504416247808\n",
       "7                2015-08-15\\t1.78222244301578\n",
       "8                2015-08-16\\t1.53307377556984\n",
       "9                         2015-08-17\\t1.29638"
      ]
     },
     "execution_count": 4,
     "metadata": {},
     "output_type": "execute_result"
    }
   ],
   "source": [
    "eth_usd = pd.read_csv('/Users/shubhandua/Desktop/Pantera/PE Ratio Research/Eth_USD.csv', encoding='utf-16')\n",
    "eth_usd.head(10)"
   ]
  },
  {
   "cell_type": "code",
   "execution_count": null,
   "id": "861bb118",
   "metadata": {},
   "outputs": [],
   "source": []
  },
  {
   "cell_type": "code",
   "execution_count": 5,
   "id": "ab1e03d9",
   "metadata": {},
   "outputs": [],
   "source": [
    "#with open(path, 'rb') as f:\n",
    " # contents = f.read()"
   ]
  },
  {
   "cell_type": "code",
   "execution_count": null,
   "id": "57cc9b38",
   "metadata": {},
   "outputs": [],
   "source": []
  },
  {
   "cell_type": "code",
   "execution_count": 6,
   "id": "db0dd01a",
   "metadata": {},
   "outputs": [],
   "source": [
    "#df=btc\n",
    "#fig = px.line(df, x = 'BTC / USD Denominated Closing Price', y = 'Time', title='Apple Share Prices over time (2014)')\n",
    "#fig.show()"
   ]
  },
  {
   "cell_type": "code",
   "execution_count": 7,
   "id": "eea35b89",
   "metadata": {},
   "outputs": [],
   "source": [
    "eth_new = eth_usd['Time\\t\"ETH / USD Denominated Closing Price\"'].str.split(\"\\t\", n = 1, expand = True)"
   ]
  },
  {
   "cell_type": "code",
   "execution_count": 8,
   "id": "513ed8e0",
   "metadata": {},
   "outputs": [
    {
     "data": {
      "text/plain": [
       "Index(['Time', 'ETH / USD Denominated Closing Price'], dtype='object')"
      ]
     },
     "execution_count": 8,
     "metadata": {},
     "output_type": "execute_result"
    }
   ],
   "source": [
    "eth_new.columns = [\"Time\", \"ETH / USD Denominated Closing Price\"]\n",
    "eth_new.columns"
   ]
  },
  {
   "cell_type": "code",
   "execution_count": 9,
   "id": "b5fd2770",
   "metadata": {},
   "outputs": [
    {
     "data": {
      "text/plain": [
       "Time                                    object\n",
       "ETH / USD Denominated Closing Price    float64\n",
       "dtype: object"
      ]
     },
     "execution_count": 9,
     "metadata": {},
     "output_type": "execute_result"
    }
   ],
   "source": [
    "eth_new['ETH / USD Denominated Closing Price']= eth_new['ETH / USD Denominated Closing Price'].astype(float)\n",
    "eth_new.dtypes"
   ]
  },
  {
   "cell_type": "code",
   "execution_count": null,
   "id": "20df5a02-e179-4cc1-8e3f-5a118e756b56",
   "metadata": {},
   "outputs": [],
   "source": []
  },
  {
   "cell_type": "code",
   "execution_count": 10,
   "id": "5314f3f5-6973-413b-a5c4-324cf355993d",
   "metadata": {},
   "outputs": [
    {
     "data": {
      "text/html": [
       "<div>\n",
       "<style scoped>\n",
       "    .dataframe tbody tr th:only-of-type {\n",
       "        vertical-align: middle;\n",
       "    }\n",
       "\n",
       "    .dataframe tbody tr th {\n",
       "        vertical-align: top;\n",
       "    }\n",
       "\n",
       "    .dataframe thead th {\n",
       "        text-align: right;\n",
       "    }\n",
       "</style>\n",
       "<table border=\"1\" class=\"dataframe\">\n",
       "  <thead>\n",
       "    <tr style=\"text-align: right;\">\n",
       "      <th></th>\n",
       "      <th>Time</th>\n",
       "      <th>ETH / USD Denominated Closing Price</th>\n",
       "    </tr>\n",
       "  </thead>\n",
       "  <tbody>\n",
       "    <tr>\n",
       "      <th>0</th>\n",
       "      <td>2015-08-08</td>\n",
       "      <td>1.199990</td>\n",
       "    </tr>\n",
       "    <tr>\n",
       "      <th>1</th>\n",
       "      <td>2015-08-09</td>\n",
       "      <td>1.199990</td>\n",
       "    </tr>\n",
       "    <tr>\n",
       "      <th>2</th>\n",
       "      <td>2015-08-10</td>\n",
       "      <td>1.199990</td>\n",
       "    </tr>\n",
       "    <tr>\n",
       "      <th>3</th>\n",
       "      <td>2015-08-11</td>\n",
       "      <td>0.990000</td>\n",
       "    </tr>\n",
       "    <tr>\n",
       "      <th>4</th>\n",
       "      <td>2015-08-12</td>\n",
       "      <td>1.288000</td>\n",
       "    </tr>\n",
       "    <tr>\n",
       "      <th>...</th>\n",
       "      <td>...</td>\n",
       "      <td>...</td>\n",
       "    </tr>\n",
       "    <tr>\n",
       "      <th>2492</th>\n",
       "      <td>2022-06-04</td>\n",
       "      <td>1799.048309</td>\n",
       "    </tr>\n",
       "    <tr>\n",
       "      <th>2493</th>\n",
       "      <td>2022-06-05</td>\n",
       "      <td>1805.689054</td>\n",
       "    </tr>\n",
       "    <tr>\n",
       "      <th>2494</th>\n",
       "      <td>2022-06-06</td>\n",
       "      <td>1857.054864</td>\n",
       "    </tr>\n",
       "    <tr>\n",
       "      <th>2495</th>\n",
       "      <td>2022-06-07</td>\n",
       "      <td>1812.557375</td>\n",
       "    </tr>\n",
       "    <tr>\n",
       "      <th>2496</th>\n",
       "      <td>2022-06-08</td>\n",
       "      <td>1794.501577</td>\n",
       "    </tr>\n",
       "  </tbody>\n",
       "</table>\n",
       "<p>2497 rows × 2 columns</p>\n",
       "</div>"
      ],
      "text/plain": [
       "            Time  ETH / USD Denominated Closing Price\n",
       "0     2015-08-08                             1.199990\n",
       "1     2015-08-09                             1.199990\n",
       "2     2015-08-10                             1.199990\n",
       "3     2015-08-11                             0.990000\n",
       "4     2015-08-12                             1.288000\n",
       "...          ...                                  ...\n",
       "2492  2022-06-04                          1799.048309\n",
       "2493  2022-06-05                          1805.689054\n",
       "2494  2022-06-06                          1857.054864\n",
       "2495  2022-06-07                          1812.557375\n",
       "2496  2022-06-08                          1794.501577\n",
       "\n",
       "[2497 rows x 2 columns]"
      ]
     },
     "execution_count": 10,
     "metadata": {},
     "output_type": "execute_result"
    }
   ],
   "source": [
    "eth_new"
   ]
  },
  {
   "cell_type": "code",
   "execution_count": 11,
   "id": "bee6046c-cf52-4d2f-b138-87143280b729",
   "metadata": {},
   "outputs": [
    {
     "data": {
      "text/plain": [
       "4811.1564628872"
      ]
     },
     "execution_count": 11,
     "metadata": {},
     "output_type": "execute_result"
    }
   ],
   "source": [
    "eth_new['ETH / USD Denominated Closing Price'].max()"
   ]
  },
  {
   "cell_type": "code",
   "execution_count": 12,
   "id": "498019aa-0d81-4dfd-9dd7-523f00ab3d3b",
   "metadata": {},
   "outputs": [
    {
     "data": {
      "text/plain": [
       "<AxesSubplot:xlabel='Time'>"
      ]
     },
     "execution_count": 12,
     "metadata": {},
     "output_type": "execute_result"
    },
    {
     "data": {
      "image/png": "[encoded data removed]",
      "text/plain": [
       "<Figure size 720x720 with 1 Axes>"
      ]
     },
     "metadata": {
      "needs_background": "light"
     },
     "output_type": "display_data"
    }
   ],
   "source": [
    "eth_new.plot(x=\"Time\", y= \"ETH / USD Denominated Closing Price\",\n",
    "        kind=\"line\", figsize=(10, 10))\n"
   ]
  },
  {
   "cell_type": "code",
   "execution_count": 13,
   "id": "88c89bc4-c7cd-4831-a1c3-27ad76faf055",
   "metadata": {},
   "outputs": [
    {
     "data": {
      "text/plain": [
       "8.478692763076095"
      ]
     },
     "execution_count": 13,
     "metadata": {},
     "output_type": "execute_result"
    }
   ],
   "source": [
    "eth_new['ETH / USD Denominated Closing Price'] = np.log(eth_new['ETH / USD Denominated Closing Price'])\n",
    "eth_new['ETH / USD Denominated Closing Price'].max()"
   ]
  },
  {
   "cell_type": "code",
   "execution_count": 14,
   "id": "374d3a15-4763-47d1-9531-640baf4d9ebb",
   "metadata": {},
   "outputs": [
    {
     "data": {
      "text/plain": [
       "<AxesSubplot:xlabel='Time'>"
      ]
     },
     "execution_count": 14,
     "metadata": {},
     "output_type": "execute_result"
    },
    {
     "data": {
      "image/png": "[encoded data removed]",
      "text/plain": [
       "<Figure size 1080x720 with 1 Axes>"
      ]
     },
     "metadata": {
      "needs_background": "light"
     },
     "output_type": "display_data"
    }
   ],
   "source": [
    "eth_new.plot(x=\"Time\", y= \"ETH / USD Denominated Closing Price\",\n",
    "        kind=\"line\", figsize=(15, 10))\n"
   ]
  },
  {
   "cell_type": "code",
   "execution_count": null,
   "id": "3a6f6d8a-2338-4998-8e16-ccb326d7dade",
   "metadata": {},
   "outputs": [],
   "source": []
  },
  {
   "cell_type": "code",
   "execution_count": 15,
   "id": "7d585ae6-d8ba-4d7c-82e1-5ef2aee84bf8",
   "metadata": {},
   "outputs": [],
   "source": [
    "eth_nvt = pd.read_csv('/Users/shubhandua/Desktop/Pantera/PE Ratio Research/ETH_NVT.csv', encoding='utf-16')"
   ]
  },
  {
   "cell_type": "code",
   "execution_count": 16,
   "id": "07968f2c-cbbf-4d9a-928b-5c6694e6e909",
   "metadata": {},
   "outputs": [
    {
     "data": {
      "text/html": [
       "<div>\n",
       "<style scoped>\n",
       "    .dataframe tbody tr th:only-of-type {\n",
       "        vertical-align: middle;\n",
       "    }\n",
       "\n",
       "    .dataframe tbody tr th {\n",
       "        vertical-align: top;\n",
       "    }\n",
       "\n",
       "    .dataframe thead th {\n",
       "        text-align: right;\n",
       "    }\n",
       "</style>\n",
       "<table border=\"1\" class=\"dataframe\">\n",
       "  <thead>\n",
       "    <tr style=\"text-align: right;\">\n",
       "      <th></th>\n",
       "      <th>Time\\t\"ETH / NVT\"</th>\n",
       "    </tr>\n",
       "  </thead>\n",
       "  <tbody>\n",
       "    <tr>\n",
       "      <th>0</th>\n",
       "      <td>2015-08-08\\t5.38980006</td>\n",
       "    </tr>\n",
       "    <tr>\n",
       "      <th>1</th>\n",
       "      <td>2015-08-09\\t70.37407159</td>\n",
       "    </tr>\n",
       "    <tr>\n",
       "      <th>2</th>\n",
       "      <td>2015-08-10\\t49.82435968</td>\n",
       "    </tr>\n",
       "    <tr>\n",
       "      <th>3</th>\n",
       "      <td>2015-08-11\\t60.22035209</td>\n",
       "    </tr>\n",
       "    <tr>\n",
       "      <th>4</th>\n",
       "      <td>2015-08-12\\t113.76126346</td>\n",
       "    </tr>\n",
       "    <tr>\n",
       "      <th>5</th>\n",
       "      <td>2015-08-13\\t46.93799647</td>\n",
       "    </tr>\n",
       "    <tr>\n",
       "      <th>6</th>\n",
       "      <td>2015-08-14\\t36.93541976</td>\n",
       "    </tr>\n",
       "    <tr>\n",
       "      <th>7</th>\n",
       "      <td>2015-08-15\\t9.60305969</td>\n",
       "    </tr>\n",
       "    <tr>\n",
       "      <th>8</th>\n",
       "      <td>2015-08-16\\t47.62980327</td>\n",
       "    </tr>\n",
       "    <tr>\n",
       "      <th>9</th>\n",
       "      <td>2015-08-17\\t33.36085742</td>\n",
       "    </tr>\n",
       "  </tbody>\n",
       "</table>\n",
       "</div>"
      ],
      "text/plain": [
       "          Time\\t\"ETH / NVT\"\n",
       "0    2015-08-08\\t5.38980006\n",
       "1   2015-08-09\\t70.37407159\n",
       "2   2015-08-10\\t49.82435968\n",
       "3   2015-08-11\\t60.22035209\n",
       "4  2015-08-12\\t113.76126346\n",
       "5   2015-08-13\\t46.93799647\n",
       "6   2015-08-14\\t36.93541976\n",
       "7    2015-08-15\\t9.60305969\n",
       "8   2015-08-16\\t47.62980327\n",
       "9   2015-08-17\\t33.36085742"
      ]
     },
     "execution_count": 16,
     "metadata": {},
     "output_type": "execute_result"
    }
   ],
   "source": [
    "eth_nvt.head(10)"
   ]
  },
  {
   "cell_type": "code",
   "execution_count": 17,
   "id": "7cc652d6-563c-4e32-a39f-d51ad0d5d3dc",
   "metadata": {},
   "outputs": [
    {
     "data": {
      "text/html": [
       "<div>\n",
       "<style scoped>\n",
       "    .dataframe tbody tr th:only-of-type {\n",
       "        vertical-align: middle;\n",
       "    }\n",
       "\n",
       "    .dataframe tbody tr th {\n",
       "        vertical-align: top;\n",
       "    }\n",
       "\n",
       "    .dataframe thead th {\n",
       "        text-align: right;\n",
       "    }\n",
       "</style>\n",
       "<table border=\"1\" class=\"dataframe\">\n",
       "  <thead>\n",
       "    <tr style=\"text-align: right;\">\n",
       "      <th></th>\n",
       "      <th>0</th>\n",
       "      <th>1</th>\n",
       "    </tr>\n",
       "  </thead>\n",
       "  <tbody>\n",
       "    <tr>\n",
       "      <th>0</th>\n",
       "      <td>2015-08-08</td>\n",
       "      <td>5.38980006</td>\n",
       "    </tr>\n",
       "    <tr>\n",
       "      <th>1</th>\n",
       "      <td>2015-08-09</td>\n",
       "      <td>70.37407159</td>\n",
       "    </tr>\n",
       "    <tr>\n",
       "      <th>2</th>\n",
       "      <td>2015-08-10</td>\n",
       "      <td>49.82435968</td>\n",
       "    </tr>\n",
       "    <tr>\n",
       "      <th>3</th>\n",
       "      <td>2015-08-11</td>\n",
       "      <td>60.22035209</td>\n",
       "    </tr>\n",
       "    <tr>\n",
       "      <th>4</th>\n",
       "      <td>2015-08-12</td>\n",
       "      <td>113.76126346</td>\n",
       "    </tr>\n",
       "    <tr>\n",
       "      <th>5</th>\n",
       "      <td>2015-08-13</td>\n",
       "      <td>46.93799647</td>\n",
       "    </tr>\n",
       "    <tr>\n",
       "      <th>6</th>\n",
       "      <td>2015-08-14</td>\n",
       "      <td>36.93541976</td>\n",
       "    </tr>\n",
       "    <tr>\n",
       "      <th>7</th>\n",
       "      <td>2015-08-15</td>\n",
       "      <td>9.60305969</td>\n",
       "    </tr>\n",
       "    <tr>\n",
       "      <th>8</th>\n",
       "      <td>2015-08-16</td>\n",
       "      <td>47.62980327</td>\n",
       "    </tr>\n",
       "    <tr>\n",
       "      <th>9</th>\n",
       "      <td>2015-08-17</td>\n",
       "      <td>33.36085742</td>\n",
       "    </tr>\n",
       "  </tbody>\n",
       "</table>\n",
       "</div>"
      ],
      "text/plain": [
       "            0             1\n",
       "0  2015-08-08    5.38980006\n",
       "1  2015-08-09   70.37407159\n",
       "2  2015-08-10   49.82435968\n",
       "3  2015-08-11   60.22035209\n",
       "4  2015-08-12  113.76126346\n",
       "5  2015-08-13   46.93799647\n",
       "6  2015-08-14   36.93541976\n",
       "7  2015-08-15    9.60305969\n",
       "8  2015-08-16   47.62980327\n",
       "9  2015-08-17   33.36085742"
      ]
     },
     "execution_count": 17,
     "metadata": {},
     "output_type": "execute_result"
    }
   ],
   "source": [
    "eth_nvt_new = eth_nvt['Time\\t\"ETH / NVT\"'].str.split(\"\\t\", n = 1, expand = True)\n",
    "eth_nvt_new.head(10)"
   ]
  },
  {
   "cell_type": "code",
   "execution_count": 18,
   "id": "ca99367f-352e-46ac-bfd3-8270a88bd2af",
   "metadata": {},
   "outputs": [
    {
     "data": {
      "text/html": [
       "<div>\n",
       "<style scoped>\n",
       "    .dataframe tbody tr th:only-of-type {\n",
       "        vertical-align: middle;\n",
       "    }\n",
       "\n",
       "    .dataframe tbody tr th {\n",
       "        vertical-align: top;\n",
       "    }\n",
       "\n",
       "    .dataframe thead th {\n",
       "        text-align: right;\n",
       "    }\n",
       "</style>\n",
       "<table border=\"1\" class=\"dataframe\">\n",
       "  <thead>\n",
       "    <tr style=\"text-align: right;\">\n",
       "      <th></th>\n",
       "      <th>Time</th>\n",
       "      <th>ETH / NVT</th>\n",
       "    </tr>\n",
       "  </thead>\n",
       "  <tbody>\n",
       "    <tr>\n",
       "      <th>0</th>\n",
       "      <td>2015-08-08</td>\n",
       "      <td>5.38980006</td>\n",
       "    </tr>\n",
       "    <tr>\n",
       "      <th>1</th>\n",
       "      <td>2015-08-09</td>\n",
       "      <td>70.37407159</td>\n",
       "    </tr>\n",
       "    <tr>\n",
       "      <th>2</th>\n",
       "      <td>2015-08-10</td>\n",
       "      <td>49.82435968</td>\n",
       "    </tr>\n",
       "    <tr>\n",
       "      <th>3</th>\n",
       "      <td>2015-08-11</td>\n",
       "      <td>60.22035209</td>\n",
       "    </tr>\n",
       "    <tr>\n",
       "      <th>4</th>\n",
       "      <td>2015-08-12</td>\n",
       "      <td>113.76126346</td>\n",
       "    </tr>\n",
       "    <tr>\n",
       "      <th>...</th>\n",
       "      <td>...</td>\n",
       "      <td>...</td>\n",
       "    </tr>\n",
       "    <tr>\n",
       "      <th>2492</th>\n",
       "      <td>2022-06-04</td>\n",
       "      <td>125.721194816898</td>\n",
       "    </tr>\n",
       "    <tr>\n",
       "      <th>2493</th>\n",
       "      <td>2022-06-05</td>\n",
       "      <td>129.49770414055</td>\n",
       "    </tr>\n",
       "    <tr>\n",
       "      <th>2494</th>\n",
       "      <td>2022-06-06</td>\n",
       "      <td>66.030964199863</td>\n",
       "    </tr>\n",
       "    <tr>\n",
       "      <th>2495</th>\n",
       "      <td>2022-06-07</td>\n",
       "      <td>47.14451769858</td>\n",
       "    </tr>\n",
       "    <tr>\n",
       "      <th>2496</th>\n",
       "      <td>2022-06-08</td>\n",
       "      <td>66.79624002293</td>\n",
       "    </tr>\n",
       "  </tbody>\n",
       "</table>\n",
       "<p>2497 rows × 2 columns</p>\n",
       "</div>"
      ],
      "text/plain": [
       "            Time         ETH / NVT\n",
       "0     2015-08-08        5.38980006\n",
       "1     2015-08-09       70.37407159\n",
       "2     2015-08-10       49.82435968\n",
       "3     2015-08-11       60.22035209\n",
       "4     2015-08-12      113.76126346\n",
       "...          ...               ...\n",
       "2492  2022-06-04  125.721194816898\n",
       "2493  2022-06-05   129.49770414055\n",
       "2494  2022-06-06   66.030964199863\n",
       "2495  2022-06-07    47.14451769858\n",
       "2496  2022-06-08    66.79624002293\n",
       "\n",
       "[2497 rows x 2 columns]"
      ]
     },
     "execution_count": 18,
     "metadata": {},
     "output_type": "execute_result"
    }
   ],
   "source": [
    "eth_nvt_new.columns = [\"Time\", \"ETH / NVT\"]\n",
    "\n",
    "eth_nvt_new"
   ]
  },
  {
   "cell_type": "code",
   "execution_count": 19,
   "id": "2aca41e7-e199-4c12-b1d8-63a52fd64fef",
   "metadata": {},
   "outputs": [],
   "source": [
    "eth_nvt_new['ETH / NVT']= eth_nvt_new['ETH / NVT'].astype(float)"
   ]
  },
  {
   "cell_type": "code",
   "execution_count": null,
   "id": "0b19ea02-a8ed-4f44-a8cf-5651e24d77cc",
   "metadata": {},
   "outputs": [],
   "source": []
  },
  {
   "cell_type": "code",
   "execution_count": 20,
   "id": "5f9e1018-7ee5-4c24-a424-c41a2d58657e",
   "metadata": {},
   "outputs": [
    {
     "data": {
      "text/plain": [
       "<AxesSubplot:xlabel='Time'>"
      ]
     },
     "execution_count": 20,
     "metadata": {},
     "output_type": "execute_result"
    },
    {
     "data": {
      "image/png": "[encoded data removed]",
      "text/plain": [
       "<Figure size 1440x720 with 1 Axes>"
      ]
     },
     "metadata": {
      "needs_background": "light"
     },
     "output_type": "display_data"
    }
   ],
   "source": [
    "eth_nvt_new.plot(x=\"Time\", y= \"ETH / NVT\",\n",
    "        kind=\"line\", figsize=(20, 10))\n"
   ]
  },
  {
   "cell_type": "markdown",
   "id": "9006ea90-dacf-4892-814b-19a3b46bc4e8",
   "metadata": {},
   "source": [
    "## TAAR"
   ]
  },
  {
   "cell_type": "code",
   "execution_count": 32,
   "id": "a3d491f2-e851-4fd3-ab24-5f1b5cb3ebb1",
   "metadata": {},
   "outputs": [
    {
     "data": {
      "text/html": [
       "<div>\n",
       "<style scoped>\n",
       "    .dataframe tbody tr th:only-of-type {\n",
       "        vertical-align: middle;\n",
       "    }\n",
       "\n",
       "    .dataframe tbody tr th {\n",
       "        vertical-align: top;\n",
       "    }\n",
       "\n",
       "    .dataframe thead th {\n",
       "        text-align: right;\n",
       "    }\n",
       "</style>\n",
       "<table border=\"1\" class=\"dataframe\">\n",
       "  <thead>\n",
       "    <tr style=\"text-align: right;\">\n",
       "      <th></th>\n",
       "      <th>Date(UTC)</th>\n",
       "      <th>Value</th>\n",
       "    </tr>\n",
       "  </thead>\n",
       "  <tbody>\n",
       "    <tr>\n",
       "      <th>0</th>\n",
       "      <td>3/11/2016</td>\n",
       "      <td>109835</td>\n",
       "    </tr>\n",
       "    <tr>\n",
       "      <th>1</th>\n",
       "      <td>3/12/2016</td>\n",
       "      <td>111755</td>\n",
       "    </tr>\n",
       "    <tr>\n",
       "      <th>2</th>\n",
       "      <td>3/13/2016</td>\n",
       "      <td>113690</td>\n",
       "    </tr>\n",
       "    <tr>\n",
       "      <th>3</th>\n",
       "      <td>3/14/2016</td>\n",
       "      <td>115840</td>\n",
       "    </tr>\n",
       "    <tr>\n",
       "      <th>4</th>\n",
       "      <td>3/15/2016</td>\n",
       "      <td>117680</td>\n",
       "    </tr>\n",
       "    <tr>\n",
       "      <th>5</th>\n",
       "      <td>3/16/2016</td>\n",
       "      <td>119290</td>\n",
       "    </tr>\n",
       "    <tr>\n",
       "      <th>6</th>\n",
       "      <td>3/17/2016</td>\n",
       "      <td>120974</td>\n",
       "    </tr>\n",
       "    <tr>\n",
       "      <th>7</th>\n",
       "      <td>3/18/2016</td>\n",
       "      <td>122851</td>\n",
       "    </tr>\n",
       "    <tr>\n",
       "      <th>8</th>\n",
       "      <td>3/19/2016</td>\n",
       "      <td>124108</td>\n",
       "    </tr>\n",
       "    <tr>\n",
       "      <th>9</th>\n",
       "      <td>3/20/2016</td>\n",
       "      <td>125636</td>\n",
       "    </tr>\n",
       "  </tbody>\n",
       "</table>\n",
       "</div>"
      ],
      "text/plain": [
       "   Date(UTC)   Value\n",
       "0  3/11/2016  109835\n",
       "1  3/12/2016  111755\n",
       "2  3/13/2016  113690\n",
       "3  3/14/2016  115840\n",
       "4  3/15/2016  117680\n",
       "5  3/16/2016  119290\n",
       "6  3/17/2016  120974\n",
       "7  3/18/2016  122851\n",
       "8  3/19/2016  124108\n",
       "9  3/20/2016  125636"
      ]
     },
     "execution_count": 32,
     "metadata": {},
     "output_type": "execute_result"
    }
   ],
   "source": [
    "eth_add = pd.read_csv('/Users/shubhandua/Desktop/Pantera/PE Ratio Research/eth_add.csv')\n",
    "eth_add = eth_add.iloc[225:, :]\n",
    "eth_add = eth_add.reset_index()\n",
    "eth_add = eth_add.drop(columns = ['index', 'UnixTimeStamp'])\n",
    "eth_add.head(10)"
   ]
  },
  {
   "cell_type": "code",
   "execution_count": 33,
   "id": "98caaaba-83b3-4cea-b3b1-4049b27e0620",
   "metadata": {},
   "outputs": [
    {
     "data": {
      "text/html": [
       "<div>\n",
       "<style scoped>\n",
       "    .dataframe tbody tr th:only-of-type {\n",
       "        vertical-align: middle;\n",
       "    }\n",
       "\n",
       "    .dataframe tbody tr th {\n",
       "        vertical-align: top;\n",
       "    }\n",
       "\n",
       "    .dataframe thead th {\n",
       "        text-align: right;\n",
       "    }\n",
       "</style>\n",
       "<table border=\"1\" class=\"dataframe\">\n",
       "  <thead>\n",
       "    <tr style=\"text-align: right;\">\n",
       "      <th></th>\n",
       "      <th>Date</th>\n",
       "      <th>Price</th>\n",
       "      <th>Open</th>\n",
       "      <th>High</th>\n",
       "      <th>Low</th>\n",
       "      <th>Vol.</th>\n",
       "      <th>Change %</th>\n",
       "    </tr>\n",
       "  </thead>\n",
       "  <tbody>\n",
       "    <tr>\n",
       "      <th>2339</th>\n",
       "      <td>Mar 11, 2016</td>\n",
       "      <td>11.95</td>\n",
       "      <td>11.75</td>\n",
       "      <td>11.95</td>\n",
       "      <td>11.75</td>\n",
       "      <td>0.18K</td>\n",
       "      <td>1.70%</td>\n",
       "    </tr>\n",
       "    <tr>\n",
       "      <th>2338</th>\n",
       "      <td>Mar 12, 2016</td>\n",
       "      <td>12.92</td>\n",
       "      <td>11.95</td>\n",
       "      <td>13.45</td>\n",
       "      <td>11.95</td>\n",
       "      <td>0.83K</td>\n",
       "      <td>8.12%</td>\n",
       "    </tr>\n",
       "    <tr>\n",
       "      <th>2337</th>\n",
       "      <td>Mar 13, 2016</td>\n",
       "      <td>15.07</td>\n",
       "      <td>12.92</td>\n",
       "      <td>15.07</td>\n",
       "      <td>12.92</td>\n",
       "      <td>1.30K</td>\n",
       "      <td>16.64%</td>\n",
       "    </tr>\n",
       "    <tr>\n",
       "      <th>2336</th>\n",
       "      <td>Mar 14, 2016</td>\n",
       "      <td>12.50</td>\n",
       "      <td>15.07</td>\n",
       "      <td>15.07</td>\n",
       "      <td>11.40</td>\n",
       "      <td>92.18K</td>\n",
       "      <td>-17.05%</td>\n",
       "    </tr>\n",
       "    <tr>\n",
       "      <th>2335</th>\n",
       "      <td>Mar 15, 2016</td>\n",
       "      <td>13.06</td>\n",
       "      <td>12.63</td>\n",
       "      <td>13.42</td>\n",
       "      <td>11.98</td>\n",
       "      <td>39.73K</td>\n",
       "      <td>4.48%</td>\n",
       "    </tr>\n",
       "    <tr>\n",
       "      <th>2334</th>\n",
       "      <td>Mar 16, 2016</td>\n",
       "      <td>12.88</td>\n",
       "      <td>13.06</td>\n",
       "      <td>13.89</td>\n",
       "      <td>12.62</td>\n",
       "      <td>19.24K</td>\n",
       "      <td>-1.38%</td>\n",
       "    </tr>\n",
       "    <tr>\n",
       "      <th>2333</th>\n",
       "      <td>Mar 17, 2016</td>\n",
       "      <td>10.74</td>\n",
       "      <td>12.58</td>\n",
       "      <td>12.61</td>\n",
       "      <td>10.44</td>\n",
       "      <td>89.45K</td>\n",
       "      <td>-16.61%</td>\n",
       "    </tr>\n",
       "    <tr>\n",
       "      <th>2332</th>\n",
       "      <td>Mar 18, 2016</td>\n",
       "      <td>10.74</td>\n",
       "      <td>11.09</td>\n",
       "      <td>11.20</td>\n",
       "      <td>8.34</td>\n",
       "      <td>157.37K</td>\n",
       "      <td>0.00%</td>\n",
       "    </tr>\n",
       "    <tr>\n",
       "      <th>2331</th>\n",
       "      <td>Mar 19, 2016</td>\n",
       "      <td>10.31</td>\n",
       "      <td>10.97</td>\n",
       "      <td>11.10</td>\n",
       "      <td>9.78</td>\n",
       "      <td>67.55K</td>\n",
       "      <td>-4.00%</td>\n",
       "    </tr>\n",
       "    <tr>\n",
       "      <th>2330</th>\n",
       "      <td>Mar 20, 2016</td>\n",
       "      <td>10.18</td>\n",
       "      <td>10.55</td>\n",
       "      <td>10.88</td>\n",
       "      <td>9.56</td>\n",
       "      <td>33.18K</td>\n",
       "      <td>-1.26%</td>\n",
       "    </tr>\n",
       "  </tbody>\n",
       "</table>\n",
       "</div>"
      ],
      "text/plain": [
       "              Date  Price   Open   High    Low     Vol. Change %\n",
       "2339  Mar 11, 2016  11.95  11.75  11.95  11.75    0.18K    1.70%\n",
       "2338  Mar 12, 2016  12.92  11.95  13.45  11.95    0.83K    8.12%\n",
       "2337  Mar 13, 2016  15.07  12.92  15.07  12.92    1.30K   16.64%\n",
       "2336  Mar 14, 2016  12.50  15.07  15.07  11.40   92.18K  -17.05%\n",
       "2335  Mar 15, 2016  13.06  12.63  13.42  11.98   39.73K    4.48%\n",
       "2334  Mar 16, 2016  12.88  13.06  13.89  12.62   19.24K   -1.38%\n",
       "2333  Mar 17, 2016  10.74  12.58  12.61  10.44   89.45K  -16.61%\n",
       "2332  Mar 18, 2016  10.74  11.09  11.20   8.34  157.37K    0.00%\n",
       "2331  Mar 19, 2016  10.31  10.97  11.10   9.78   67.55K   -4.00%\n",
       "2330  Mar 20, 2016  10.18  10.55  10.88   9.56   33.18K   -1.26%"
      ]
     },
     "execution_count": 33,
     "metadata": {},
     "output_type": "execute_result"
    }
   ],
   "source": [
    "eth_vol = pd.read_csv('/Users/shubhandua/Desktop/Pantera/PE Ratio Research/Eth_vol.csv')\n",
    "eth_vol = eth_vol.iloc[::-1]\n",
    "eth_vol = eth_vol.iloc[1:, :]\n",
    "eth_vol.head(10)"
   ]
  },
  {
   "cell_type": "code",
   "execution_count": 34,
   "id": "7bbe6b2b-670a-4b8b-be6f-917da4314881",
   "metadata": {},
   "outputs": [],
   "source": [
    "eth_add[\"Value\"] = eth_add[\"Value\"].astype(int)"
   ]
  },
  {
   "cell_type": "code",
   "execution_count": 35,
   "id": "164146c9-a4ab-445a-b921-ee5ddf8ab1dd",
   "metadata": {},
   "outputs": [
    {
     "data": {
      "text/html": [
       "<div>\n",
       "<style scoped>\n",
       "    .dataframe tbody tr th:only-of-type {\n",
       "        vertical-align: middle;\n",
       "    }\n",
       "\n",
       "    .dataframe tbody tr th {\n",
       "        vertical-align: top;\n",
       "    }\n",
       "\n",
       "    .dataframe thead th {\n",
       "        text-align: right;\n",
       "    }\n",
       "</style>\n",
       "<table border=\"1\" class=\"dataframe\">\n",
       "  <thead>\n",
       "    <tr style=\"text-align: right;\">\n",
       "      <th></th>\n",
       "      <th>Date</th>\n",
       "      <th>Price</th>\n",
       "      <th>Open</th>\n",
       "      <th>High</th>\n",
       "      <th>Low</th>\n",
       "      <th>Vol.</th>\n",
       "      <th>Change %</th>\n",
       "    </tr>\n",
       "  </thead>\n",
       "  <tbody>\n",
       "    <tr>\n",
       "      <th>2339</th>\n",
       "      <td>Mar 11, 2016</td>\n",
       "      <td>11.95</td>\n",
       "      <td>11.75</td>\n",
       "      <td>11.95</td>\n",
       "      <td>11.75</td>\n",
       "      <td>018000</td>\n",
       "      <td>1.70%</td>\n",
       "    </tr>\n",
       "    <tr>\n",
       "      <th>2338</th>\n",
       "      <td>Mar 12, 2016</td>\n",
       "      <td>12.92</td>\n",
       "      <td>11.95</td>\n",
       "      <td>13.45</td>\n",
       "      <td>11.95</td>\n",
       "      <td>083000</td>\n",
       "      <td>8.12%</td>\n",
       "    </tr>\n",
       "    <tr>\n",
       "      <th>2337</th>\n",
       "      <td>Mar 13, 2016</td>\n",
       "      <td>15.07</td>\n",
       "      <td>12.92</td>\n",
       "      <td>15.07</td>\n",
       "      <td>12.92</td>\n",
       "      <td>130000</td>\n",
       "      <td>16.64%</td>\n",
       "    </tr>\n",
       "    <tr>\n",
       "      <th>2336</th>\n",
       "      <td>Mar 14, 2016</td>\n",
       "      <td>12.50</td>\n",
       "      <td>15.07</td>\n",
       "      <td>15.07</td>\n",
       "      <td>11.40</td>\n",
       "      <td>9218000</td>\n",
       "      <td>-17.05%</td>\n",
       "    </tr>\n",
       "    <tr>\n",
       "      <th>2335</th>\n",
       "      <td>Mar 15, 2016</td>\n",
       "      <td>13.06</td>\n",
       "      <td>12.63</td>\n",
       "      <td>13.42</td>\n",
       "      <td>11.98</td>\n",
       "      <td>3973000</td>\n",
       "      <td>4.48%</td>\n",
       "    </tr>\n",
       "    <tr>\n",
       "      <th>...</th>\n",
       "      <td>...</td>\n",
       "      <td>...</td>\n",
       "      <td>...</td>\n",
       "      <td>...</td>\n",
       "      <td>...</td>\n",
       "      <td>...</td>\n",
       "      <td>...</td>\n",
       "    </tr>\n",
       "    <tr>\n",
       "      <th>4</th>\n",
       "      <td>Aug 02, 2022</td>\n",
       "      <td>1,631.48</td>\n",
       "      <td>1,630.07</td>\n",
       "      <td>1,675.51</td>\n",
       "      <td>1,560.17</td>\n",
       "      <td>125000000</td>\n",
       "      <td>0.08%</td>\n",
       "    </tr>\n",
       "    <tr>\n",
       "      <th>3</th>\n",
       "      <td>Aug 03, 2022</td>\n",
       "      <td>1,618.08</td>\n",
       "      <td>1,631.46</td>\n",
       "      <td>1,682.23</td>\n",
       "      <td>1,591.60</td>\n",
       "      <td>90608000</td>\n",
       "      <td>-0.82%</td>\n",
       "    </tr>\n",
       "    <tr>\n",
       "      <th>2</th>\n",
       "      <td>Aug 04, 2022</td>\n",
       "      <td>1,606.94</td>\n",
       "      <td>1,618.07</td>\n",
       "      <td>1,661.15</td>\n",
       "      <td>1,581.18</td>\n",
       "      <td>88156000</td>\n",
       "      <td>-0.69%</td>\n",
       "    </tr>\n",
       "    <tr>\n",
       "      <th>1</th>\n",
       "      <td>Aug 05, 2022</td>\n",
       "      <td>1,737.71</td>\n",
       "      <td>1,607.00</td>\n",
       "      <td>1,740.33</td>\n",
       "      <td>1,605.71</td>\n",
       "      <td>121000000</td>\n",
       "      <td>8.14%</td>\n",
       "    </tr>\n",
       "    <tr>\n",
       "      <th>0</th>\n",
       "      <td>Aug 06, 2022</td>\n",
       "      <td>1,690.27</td>\n",
       "      <td>1,737.66</td>\n",
       "      <td>1,749.33</td>\n",
       "      <td>1,687.74</td>\n",
       "      <td>69611000</td>\n",
       "      <td>-2.73%</td>\n",
       "    </tr>\n",
       "  </tbody>\n",
       "</table>\n",
       "<p>2340 rows × 7 columns</p>\n",
       "</div>"
      ],
      "text/plain": [
       "              Date     Price      Open      High       Low       Vol. Change %\n",
       "2339  Mar 11, 2016     11.95     11.75     11.95     11.75     018000    1.70%\n",
       "2338  Mar 12, 2016     12.92     11.95     13.45     11.95     083000    8.12%\n",
       "2337  Mar 13, 2016     15.07     12.92     15.07     12.92     130000   16.64%\n",
       "2336  Mar 14, 2016     12.50     15.07     15.07     11.40    9218000  -17.05%\n",
       "2335  Mar 15, 2016     13.06     12.63     13.42     11.98    3973000    4.48%\n",
       "...            ...       ...       ...       ...       ...        ...      ...\n",
       "4     Aug 02, 2022  1,631.48  1,630.07  1,675.51  1,560.17  125000000    0.08%\n",
       "3     Aug 03, 2022  1,618.08  1,631.46  1,682.23  1,591.60   90608000   -0.82%\n",
       "2     Aug 04, 2022  1,606.94  1,618.07  1,661.15  1,581.18   88156000   -0.69%\n",
       "1     Aug 05, 2022  1,737.71  1,607.00  1,740.33  1,605.71  121000000    8.14%\n",
       "0     Aug 06, 2022  1,690.27  1,737.66  1,749.33  1,687.74   69611000   -2.73%\n",
       "\n",
       "[2340 rows x 7 columns]"
      ]
     },
     "execution_count": 35,
     "metadata": {},
     "output_type": "execute_result"
    }
   ],
   "source": [
    "mp = {'K':'000', '\\.' : \"\", 'M':'000000', 'B' : '00000000', '-' : '15500' }\n",
    "eth_vol[\"Vol.\"] = eth_vol[\"Vol.\"].replace(mp.keys(), mp.values(), regex = True)\n",
    "eth_vol"
   ]
  },
  {
   "cell_type": "code",
   "execution_count": 36,
   "id": "bb549cb1-9a69-48dc-b7de-1279c8466308",
   "metadata": {},
   "outputs": [
    {
     "data": {
      "text/html": [
       "<div>\n",
       "<style scoped>\n",
       "    .dataframe tbody tr th:only-of-type {\n",
       "        vertical-align: middle;\n",
       "    }\n",
       "\n",
       "    .dataframe tbody tr th {\n",
       "        vertical-align: top;\n",
       "    }\n",
       "\n",
       "    .dataframe thead th {\n",
       "        text-align: right;\n",
       "    }\n",
       "</style>\n",
       "<table border=\"1\" class=\"dataframe\">\n",
       "  <thead>\n",
       "    <tr style=\"text-align: right;\">\n",
       "      <th></th>\n",
       "      <th>Date</th>\n",
       "      <th>Price</th>\n",
       "      <th>Open</th>\n",
       "      <th>High</th>\n",
       "      <th>Low</th>\n",
       "      <th>Vol.</th>\n",
       "      <th>Change %</th>\n",
       "    </tr>\n",
       "  </thead>\n",
       "  <tbody>\n",
       "    <tr>\n",
       "      <th>2339</th>\n",
       "      <td>Mar 11, 2016</td>\n",
       "      <td>11.95</td>\n",
       "      <td>11.75</td>\n",
       "      <td>11.95</td>\n",
       "      <td>11.75</td>\n",
       "      <td>18000</td>\n",
       "      <td>1.70%</td>\n",
       "    </tr>\n",
       "    <tr>\n",
       "      <th>2338</th>\n",
       "      <td>Mar 12, 2016</td>\n",
       "      <td>12.92</td>\n",
       "      <td>11.95</td>\n",
       "      <td>13.45</td>\n",
       "      <td>11.95</td>\n",
       "      <td>83000</td>\n",
       "      <td>8.12%</td>\n",
       "    </tr>\n",
       "    <tr>\n",
       "      <th>2337</th>\n",
       "      <td>Mar 13, 2016</td>\n",
       "      <td>15.07</td>\n",
       "      <td>12.92</td>\n",
       "      <td>15.07</td>\n",
       "      <td>12.92</td>\n",
       "      <td>130000</td>\n",
       "      <td>16.64%</td>\n",
       "    </tr>\n",
       "    <tr>\n",
       "      <th>2336</th>\n",
       "      <td>Mar 14, 2016</td>\n",
       "      <td>12.50</td>\n",
       "      <td>15.07</td>\n",
       "      <td>15.07</td>\n",
       "      <td>11.40</td>\n",
       "      <td>9218000</td>\n",
       "      <td>-17.05%</td>\n",
       "    </tr>\n",
       "    <tr>\n",
       "      <th>2335</th>\n",
       "      <td>Mar 15, 2016</td>\n",
       "      <td>13.06</td>\n",
       "      <td>12.63</td>\n",
       "      <td>13.42</td>\n",
       "      <td>11.98</td>\n",
       "      <td>3973000</td>\n",
       "      <td>4.48%</td>\n",
       "    </tr>\n",
       "    <tr>\n",
       "      <th>...</th>\n",
       "      <td>...</td>\n",
       "      <td>...</td>\n",
       "      <td>...</td>\n",
       "      <td>...</td>\n",
       "      <td>...</td>\n",
       "      <td>...</td>\n",
       "      <td>...</td>\n",
       "    </tr>\n",
       "    <tr>\n",
       "      <th>4</th>\n",
       "      <td>Aug 02, 2022</td>\n",
       "      <td>1,631.48</td>\n",
       "      <td>1,630.07</td>\n",
       "      <td>1,675.51</td>\n",
       "      <td>1,560.17</td>\n",
       "      <td>125000000</td>\n",
       "      <td>0.08%</td>\n",
       "    </tr>\n",
       "    <tr>\n",
       "      <th>3</th>\n",
       "      <td>Aug 03, 2022</td>\n",
       "      <td>1,618.08</td>\n",
       "      <td>1,631.46</td>\n",
       "      <td>1,682.23</td>\n",
       "      <td>1,591.60</td>\n",
       "      <td>90608000</td>\n",
       "      <td>-0.82%</td>\n",
       "    </tr>\n",
       "    <tr>\n",
       "      <th>2</th>\n",
       "      <td>Aug 04, 2022</td>\n",
       "      <td>1,606.94</td>\n",
       "      <td>1,618.07</td>\n",
       "      <td>1,661.15</td>\n",
       "      <td>1,581.18</td>\n",
       "      <td>88156000</td>\n",
       "      <td>-0.69%</td>\n",
       "    </tr>\n",
       "    <tr>\n",
       "      <th>1</th>\n",
       "      <td>Aug 05, 2022</td>\n",
       "      <td>1,737.71</td>\n",
       "      <td>1,607.00</td>\n",
       "      <td>1,740.33</td>\n",
       "      <td>1,605.71</td>\n",
       "      <td>121000000</td>\n",
       "      <td>8.14%</td>\n",
       "    </tr>\n",
       "    <tr>\n",
       "      <th>0</th>\n",
       "      <td>Aug 06, 2022</td>\n",
       "      <td>1,690.27</td>\n",
       "      <td>1,737.66</td>\n",
       "      <td>1,749.33</td>\n",
       "      <td>1,687.74</td>\n",
       "      <td>69611000</td>\n",
       "      <td>-2.73%</td>\n",
       "    </tr>\n",
       "  </tbody>\n",
       "</table>\n",
       "<p>2340 rows × 7 columns</p>\n",
       "</div>"
      ],
      "text/plain": [
       "              Date     Price      Open      High       Low       Vol. Change %\n",
       "2339  Mar 11, 2016     11.95     11.75     11.95     11.75      18000    1.70%\n",
       "2338  Mar 12, 2016     12.92     11.95     13.45     11.95      83000    8.12%\n",
       "2337  Mar 13, 2016     15.07     12.92     15.07     12.92     130000   16.64%\n",
       "2336  Mar 14, 2016     12.50     15.07     15.07     11.40    9218000  -17.05%\n",
       "2335  Mar 15, 2016     13.06     12.63     13.42     11.98    3973000    4.48%\n",
       "...            ...       ...       ...       ...       ...        ...      ...\n",
       "4     Aug 02, 2022  1,631.48  1,630.07  1,675.51  1,560.17  125000000    0.08%\n",
       "3     Aug 03, 2022  1,618.08  1,631.46  1,682.23  1,591.60   90608000   -0.82%\n",
       "2     Aug 04, 2022  1,606.94  1,618.07  1,661.15  1,581.18   88156000   -0.69%\n",
       "1     Aug 05, 2022  1,737.71  1,607.00  1,740.33  1,605.71  121000000    8.14%\n",
       "0     Aug 06, 2022  1,690.27  1,737.66  1,749.33  1,687.74   69611000   -2.73%\n",
       "\n",
       "[2340 rows x 7 columns]"
      ]
     },
     "execution_count": 36,
     "metadata": {},
     "output_type": "execute_result"
    }
   ],
   "source": [
    "rp = {0 : 1}\n",
    "eth_vol[\"Vol.\"] = eth_vol[\"Vol.\"].replace(rp.keys(), rp.values(), regex = False)\n",
    "eth_vol[\"Vol.\"] = eth_vol[\"Vol.\"].astype(int)\n",
    "eth_vol"
   ]
  },
  {
   "cell_type": "code",
   "execution_count": 37,
   "id": "f465e1fc-774e-409c-800c-7e523108e32f",
   "metadata": {},
   "outputs": [
    {
     "data": {
      "text/plain": [
       "2339        18000\n",
       "2338        83000\n",
       "2337       130000\n",
       "2336      9218000\n",
       "2335      3973000\n",
       "          ...    \n",
       "4       125000000\n",
       "3        90608000\n",
       "2        88156000\n",
       "1       121000000\n",
       "0        69611000\n",
       "Name: Vol., Length: 2340, dtype: int64"
      ]
     },
     "execution_count": 37,
     "metadata": {},
     "output_type": "execute_result"
    }
   ],
   "source": [
    "eth_vol[\"Vol.\"]"
   ]
  },
  {
   "cell_type": "code",
   "execution_count": 38,
   "id": "981e4c4c-4bf9-4109-8179-69b1c43b155e",
   "metadata": {},
   "outputs": [
    {
     "data": {
      "text/plain": [
       "0          109835\n",
       "1          111755\n",
       "2          113690\n",
       "3          115840\n",
       "4          117680\n",
       "          ...    \n",
       "2337    202540345\n",
       "2338    202616614\n",
       "2339    202700316\n",
       "2340    202793030\n",
       "2341    202867753\n",
       "Name: Value, Length: 2342, dtype: int64"
      ]
     },
     "execution_count": 38,
     "metadata": {},
     "output_type": "execute_result"
    }
   ],
   "source": [
    "eth_add[\"Value\"]"
   ]
  },
  {
   "cell_type": "code",
   "execution_count": 44,
   "id": "ceb9b8da-de8d-40d5-b71c-add9dabf8690",
   "metadata": {},
   "outputs": [
    {
     "data": {
      "text/plain": [
       "Date         Mar 14, 2022\n",
       "Price            2,589.30\n",
       "Open             2,516.75\n",
       "High             2,608.68\n",
       "Low              2,500.12\n",
       "Vol.          99182000000\n",
       "Change %            2.88%\n",
       "TAAR        193646.008645\n",
       "Name: 145, dtype: object"
      ]
     },
     "execution_count": 44,
     "metadata": {},
     "output_type": "execute_result"
    }
   ],
   "source": [
    "eth_vol[\"TAAR\"] = eth_vol[\"Vol.\"] / eth_add[\"Value\"]\n",
    "eth_vol.loc[eth_vol[\"TAAR\"].idxmax()]"
   ]
  },
  {
   "cell_type": "code",
   "execution_count": 40,
   "id": "0272d571-1217-48a9-96dd-f59ef9f4ec77",
   "metadata": {},
   "outputs": [
    {
     "data": {
      "text/plain": [
       "193646.00864536435"
      ]
     },
     "execution_count": 40,
     "metadata": {},
     "output_type": "execute_result"
    },
    {
     "data": {
      "image/png": "[encoded data removed]",
      "text/plain": [
       "<Figure size 1440x720 with 1 Axes>"
      ]
     },
     "metadata": {
      "needs_background": "light"
     },
     "output_type": "display_data"
    }
   ],
   "source": [
    "eth_vol.plot(x=\"Date\", y= \"TAAR\", kind=\"line\", figsize=(20, 10))\n",
    "eth_vol[\"TAAR\"].max()"
   ]
  },
  {
   "cell_type": "code",
   "execution_count": 41,
   "id": "289c7b7e-0136-4539-9768-fd2d30b63ce2",
   "metadata": {},
   "outputs": [],
   "source": [
    "eth_vol[\"TAAR\"] = np.log(eth_vol[\"TAAR\"])\n"
   ]
  },
  {
   "cell_type": "code",
   "execution_count": 42,
   "id": "932e338e-ee3c-4a11-ae0a-d1805cef1fab",
   "metadata": {},
   "outputs": [
    {
     "data": {
      "text/plain": [
       "<AxesSubplot:xlabel='Date'>"
      ]
     },
     "execution_count": 42,
     "metadata": {},
     "output_type": "execute_result"
    },
    {
     "data": {
      "image/png": "[encoded data removed]",
      "text/plain": [
       "<Figure size 1440x720 with 1 Axes>"
      ]
     },
     "metadata": {
      "needs_background": "light"
     },
     "output_type": "display_data"
    }
   ],
   "source": [
    "eth_vol.plot(x=\"Date\", y= \"TAAR\",\n",
    "        kind=\"line\", figsize=(20, 10))"
   ]
  },
  {
   "cell_type": "markdown",
   "id": "281a20bb-7dad-43cd-aaa8-4a4059d35646",
   "metadata": {},
   "source": [
    "# PU Ratio"
   ]
  },
  {
   "cell_type": "markdown",
   "id": "e1783b4d-203b-45c2-9167-d292bd992953",
   "metadata": {},
   "source": [
    "## Token Velocity"
   ]
  },
  {
   "cell_type": "code",
   "execution_count": 51,
   "id": "30328831-09e9-4210-b918-f38b3cbeb03c",
   "metadata": {},
   "outputs": [
    {
     "data": {
      "text/html": [
       "<div>\n",
       "<style scoped>\n",
       "    .dataframe tbody tr th:only-of-type {\n",
       "        vertical-align: middle;\n",
       "    }\n",
       "\n",
       "    .dataframe tbody tr th {\n",
       "        vertical-align: top;\n",
       "    }\n",
       "\n",
       "    .dataframe thead th {\n",
       "        text-align: right;\n",
       "    }\n",
       "</style>\n",
       "<table border=\"1\" class=\"dataframe\">\n",
       "  <thead>\n",
       "    <tr style=\"text-align: right;\">\n",
       "      <th></th>\n",
       "      <th>Time\\t\"ETH / Active Supply (transacted at least once)\"</th>\n",
       "    </tr>\n",
       "  </thead>\n",
       "  <tbody>\n",
       "    <tr>\n",
       "      <th>0</th>\n",
       "      <td>2015-07-30\\t39092.5</td>\n",
       "    </tr>\n",
       "    <tr>\n",
       "      <th>1</th>\n",
       "      <td>2015-07-31\\t75260.9375</td>\n",
       "    </tr>\n",
       "    <tr>\n",
       "      <th>2</th>\n",
       "      <td>2015-08-01\\t102941.25</td>\n",
       "    </tr>\n",
       "    <tr>\n",
       "      <th>3</th>\n",
       "      <td>2015-08-02\\t131130.9375</td>\n",
       "    </tr>\n",
       "    <tr>\n",
       "      <th>4</th>\n",
       "      <td>2015-08-03\\t159057.5</td>\n",
       "    </tr>\n",
       "    <tr>\n",
       "      <th>...</th>\n",
       "      <td>...</td>\n",
       "    </tr>\n",
       "    <tr>\n",
       "      <th>2562</th>\n",
       "      <td>2022-08-04\\t116602096.5932324</td>\n",
       "    </tr>\n",
       "    <tr>\n",
       "      <th>2563</th>\n",
       "      <td>2022-08-05\\t116619470.25734183</td>\n",
       "    </tr>\n",
       "    <tr>\n",
       "      <th>2564</th>\n",
       "      <td>2022-08-06\\t116630940.78894226</td>\n",
       "    </tr>\n",
       "    <tr>\n",
       "      <th>2565</th>\n",
       "      <td>2022-08-07\\t116642172.18132858</td>\n",
       "    </tr>\n",
       "    <tr>\n",
       "      <th>2566</th>\n",
       "      <td>2022-08-08\\t116656054.8785587</td>\n",
       "    </tr>\n",
       "  </tbody>\n",
       "</table>\n",
       "<p>2567 rows × 1 columns</p>\n",
       "</div>"
      ],
      "text/plain": [
       "     Time\\t\"ETH / Active Supply (transacted at least once)\"\n",
       "0                                   2015-07-30\\t39092.5    \n",
       "1                                2015-07-31\\t75260.9375    \n",
       "2                                 2015-08-01\\t102941.25    \n",
       "3                               2015-08-02\\t131130.9375    \n",
       "4                                  2015-08-03\\t159057.5    \n",
       "...                                                 ...    \n",
       "2562                      2022-08-04\\t116602096.5932324    \n",
       "2563                     2022-08-05\\t116619470.25734183    \n",
       "2564                     2022-08-06\\t116630940.78894226    \n",
       "2565                     2022-08-07\\t116642172.18132858    \n",
       "2566                      2022-08-08\\t116656054.8785587    \n",
       "\n",
       "[2567 rows x 1 columns]"
      ]
     },
     "execution_count": 51,
     "metadata": {},
     "output_type": "execute_result"
    }
   ],
   "source": [
    "eth_tv_ts = pd.read_csv(\"/Users/shubhandua/Desktop/Pantera/PE Ratio Research/eth_tv_ts.csv\", encoding = 'utf-16')\n",
    "eth_tv_dr = pd.read_csv(\"/Users/shubhandua/Desktop/Pantera/PE Ratio Research/eth_tv_dr.csv\", encoding = 'utf-16')"
   ]
  },
  {
   "cell_type": "code",
   "execution_count": null,
   "id": "f8cdad27-9fd0-4dfe-9853-83b38fff6f97",
   "metadata": {},
   "outputs": [],
   "source": []
  }
 ],
 "metadata": {
  "kernelspec": {
   "display_name": "Python 3 (ipykernel)",
   "language": "python",
   "name": "python3"
  },
  "language_info": {
   "codemirror_mode": {
    "name": "ipython",
    "version": 3
   },
   "file_extension": ".py",
   "mimetype": "text/x-python",
   "name": "python",
   "nbconvert_exporter": "python",
   "pygments_lexer": "ipython3",
   "version": "3.9.7"
  }
 },
 "nbformat": 4,
 "nbformat_minor": 5
}
